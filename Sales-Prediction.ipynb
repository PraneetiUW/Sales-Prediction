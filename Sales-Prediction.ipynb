{
 "cells": [
  {
   "cell_type": "code",
   "execution_count": 1,
   "id": "0a038895",
   "metadata": {},
   "outputs": [],
   "source": [
    "import pandas as pd \n",
    "df = pd.read_csv(r\"C:\\Users\\Patron\\Downloads\\sales_prediction (1).csv\")"
   ]
  },
  {
   "cell_type": "code",
   "execution_count": 2,
   "id": "c3a22a06",
   "metadata": {},
   "outputs": [
    {
     "data": {
      "text/html": [
       "<div>\n",
       "<style scoped>\n",
       "    .dataframe tbody tr th:only-of-type {\n",
       "        vertical-align: middle;\n",
       "    }\n",
       "\n",
       "    .dataframe tbody tr th {\n",
       "        vertical-align: top;\n",
       "    }\n",
       "\n",
       "    .dataframe thead th {\n",
       "        text-align: right;\n",
       "    }\n",
       "</style>\n",
       "<table border=\"1\" class=\"dataframe\">\n",
       "  <thead>\n",
       "    <tr style=\"text-align: right;\">\n",
       "      <th></th>\n",
       "      <th>Item_Identifier</th>\n",
       "      <th>Item_Weight</th>\n",
       "      <th>Item_Fat_Content</th>\n",
       "      <th>Item_Visibility</th>\n",
       "      <th>Item_Type</th>\n",
       "      <th>Item_MRP</th>\n",
       "      <th>Outlet_Identifier</th>\n",
       "      <th>Outlet_Establishment_Year</th>\n",
       "      <th>Outlet_Size</th>\n",
       "      <th>Outlet_Location_Type</th>\n",
       "      <th>Outlet_Type</th>\n",
       "      <th>Item_Outlet_Sales</th>\n",
       "    </tr>\n",
       "  </thead>\n",
       "  <tbody>\n",
       "    <tr>\n",
       "      <th>0</th>\n",
       "      <td>FDA15</td>\n",
       "      <td>9.30</td>\n",
       "      <td>Low Fat</td>\n",
       "      <td>0.016047</td>\n",
       "      <td>Dairy</td>\n",
       "      <td>249.8092</td>\n",
       "      <td>OUT049</td>\n",
       "      <td>1999</td>\n",
       "      <td>Medium</td>\n",
       "      <td>Tier 1</td>\n",
       "      <td>Supermarket Type1</td>\n",
       "      <td>3735.1380</td>\n",
       "    </tr>\n",
       "    <tr>\n",
       "      <th>1</th>\n",
       "      <td>DRC01</td>\n",
       "      <td>5.92</td>\n",
       "      <td>Regular</td>\n",
       "      <td>0.019278</td>\n",
       "      <td>Soft Drinks</td>\n",
       "      <td>48.2692</td>\n",
       "      <td>OUT018</td>\n",
       "      <td>2009</td>\n",
       "      <td>Medium</td>\n",
       "      <td>Tier 3</td>\n",
       "      <td>Supermarket Type2</td>\n",
       "      <td>443.4228</td>\n",
       "    </tr>\n",
       "    <tr>\n",
       "      <th>2</th>\n",
       "      <td>FDN15</td>\n",
       "      <td>17.50</td>\n",
       "      <td>Low Fat</td>\n",
       "      <td>0.016760</td>\n",
       "      <td>Meat</td>\n",
       "      <td>141.6180</td>\n",
       "      <td>OUT049</td>\n",
       "      <td>1999</td>\n",
       "      <td>Medium</td>\n",
       "      <td>Tier 1</td>\n",
       "      <td>Supermarket Type1</td>\n",
       "      <td>2097.2700</td>\n",
       "    </tr>\n",
       "    <tr>\n",
       "      <th>3</th>\n",
       "      <td>FDX07</td>\n",
       "      <td>19.20</td>\n",
       "      <td>Regular</td>\n",
       "      <td>0.000000</td>\n",
       "      <td>Fruits and Vegetables</td>\n",
       "      <td>182.0950</td>\n",
       "      <td>OUT010</td>\n",
       "      <td>1998</td>\n",
       "      <td>NaN</td>\n",
       "      <td>Tier 3</td>\n",
       "      <td>Grocery Store</td>\n",
       "      <td>732.3800</td>\n",
       "    </tr>\n",
       "    <tr>\n",
       "      <th>4</th>\n",
       "      <td>NCD19</td>\n",
       "      <td>8.93</td>\n",
       "      <td>Low Fat</td>\n",
       "      <td>0.000000</td>\n",
       "      <td>Household</td>\n",
       "      <td>53.8614</td>\n",
       "      <td>OUT013</td>\n",
       "      <td>1987</td>\n",
       "      <td>High</td>\n",
       "      <td>Tier 3</td>\n",
       "      <td>Supermarket Type1</td>\n",
       "      <td>994.7052</td>\n",
       "    </tr>\n",
       "  </tbody>\n",
       "</table>\n",
       "</div>"
      ],
      "text/plain": [
       "  Item_Identifier  Item_Weight Item_Fat_Content  Item_Visibility  \\\n",
       "0           FDA15         9.30          Low Fat         0.016047   \n",
       "1           DRC01         5.92          Regular         0.019278   \n",
       "2           FDN15        17.50          Low Fat         0.016760   \n",
       "3           FDX07        19.20          Regular         0.000000   \n",
       "4           NCD19         8.93          Low Fat         0.000000   \n",
       "\n",
       "               Item_Type  Item_MRP Outlet_Identifier  \\\n",
       "0                  Dairy  249.8092            OUT049   \n",
       "1            Soft Drinks   48.2692            OUT018   \n",
       "2                   Meat  141.6180            OUT049   \n",
       "3  Fruits and Vegetables  182.0950            OUT010   \n",
       "4              Household   53.8614            OUT013   \n",
       "\n",
       "   Outlet_Establishment_Year Outlet_Size Outlet_Location_Type  \\\n",
       "0                       1999      Medium               Tier 1   \n",
       "1                       2009      Medium               Tier 3   \n",
       "2                       1999      Medium               Tier 1   \n",
       "3                       1998         NaN               Tier 3   \n",
       "4                       1987        High               Tier 3   \n",
       "\n",
       "         Outlet_Type  Item_Outlet_Sales  \n",
       "0  Supermarket Type1          3735.1380  \n",
       "1  Supermarket Type2           443.4228  \n",
       "2  Supermarket Type1          2097.2700  \n",
       "3      Grocery Store           732.3800  \n",
       "4  Supermarket Type1           994.7052  "
      ]
     },
     "execution_count": 2,
     "metadata": {},
     "output_type": "execute_result"
    }
   ],
   "source": [
    "df.head()"
   ]
  },
  {
   "cell_type": "code",
   "execution_count": 3,
   "id": "34a704af",
   "metadata": {},
   "outputs": [],
   "source": [
    "X = df.drop(columns=['Item_Outlet_Sales'])\n",
    "y = df['Item_Outlet_Sales'] \n",
    "            \n",
    "SEED=42           "
   ]
  },
  {
   "cell_type": "code",
   "execution_count": 4,
   "id": "aff16b71",
   "metadata": {},
   "outputs": [
    {
     "data": {
      "text/plain": [
       "((5966, 11), (2557, 11))"
      ]
     },
     "execution_count": 4,
     "metadata": {},
     "output_type": "execute_result"
    }
   ],
   "source": [
    "from sklearn.model_selection import train_test_split \n",
    "X_train, X_test, y_train, y_test = train_test_split(X, y, test_size=0.3, random_state=SEED)\n",
    "X_train.shape, X_test.shape"
   ]
  },
  {
   "cell_type": "code",
   "execution_count": 5,
   "id": "607393be",
   "metadata": {},
   "outputs": [
    {
     "data": {
      "text/html": [
       "<div>\n",
       "<style scoped>\n",
       "    .dataframe tbody tr th:only-of-type {\n",
       "        vertical-align: middle;\n",
       "    }\n",
       "\n",
       "    .dataframe tbody tr th {\n",
       "        vertical-align: top;\n",
       "    }\n",
       "\n",
       "    .dataframe thead th {\n",
       "        text-align: right;\n",
       "    }\n",
       "</style>\n",
       "<table border=\"1\" class=\"dataframe\">\n",
       "  <thead>\n",
       "    <tr style=\"text-align: right;\">\n",
       "      <th></th>\n",
       "      <th>Item_Identifier</th>\n",
       "      <th>Item_Weight</th>\n",
       "      <th>Item_Fat_Content</th>\n",
       "      <th>Item_Visibility</th>\n",
       "      <th>Item_Type</th>\n",
       "      <th>Item_MRP</th>\n",
       "      <th>Outlet_Identifier</th>\n",
       "      <th>Outlet_Establishment_Year</th>\n",
       "      <th>Outlet_Size</th>\n",
       "      <th>Outlet_Location_Type</th>\n",
       "      <th>Outlet_Type</th>\n",
       "    </tr>\n",
       "  </thead>\n",
       "  <tbody>\n",
       "    <tr>\n",
       "      <th>1921</th>\n",
       "      <td>FDN08</td>\n",
       "      <td>7.72</td>\n",
       "      <td>Regular</td>\n",
       "      <td>0.147904</td>\n",
       "      <td>Fruits and Vegetables</td>\n",
       "      <td>116.6466</td>\n",
       "      <td>OUT010</td>\n",
       "      <td>1998</td>\n",
       "      <td>NaN</td>\n",
       "      <td>Tier 3</td>\n",
       "      <td>Grocery Store</td>\n",
       "    </tr>\n",
       "    <tr>\n",
       "      <th>655</th>\n",
       "      <td>NCJ42</td>\n",
       "      <td>19.75</td>\n",
       "      <td>Low Fat</td>\n",
       "      <td>0.014301</td>\n",
       "      <td>Household</td>\n",
       "      <td>103.0332</td>\n",
       "      <td>OUT046</td>\n",
       "      <td>1997</td>\n",
       "      <td>Small</td>\n",
       "      <td>Tier 1</td>\n",
       "      <td>Supermarket Type1</td>\n",
       "    </tr>\n",
       "    <tr>\n",
       "      <th>2229</th>\n",
       "      <td>FDY47</td>\n",
       "      <td>NaN</td>\n",
       "      <td>Regular</td>\n",
       "      <td>0.054221</td>\n",
       "      <td>Breads</td>\n",
       "      <td>129.1310</td>\n",
       "      <td>OUT027</td>\n",
       "      <td>1985</td>\n",
       "      <td>Medium</td>\n",
       "      <td>Tier 3</td>\n",
       "      <td>Supermarket Type3</td>\n",
       "    </tr>\n",
       "  </tbody>\n",
       "</table>\n",
       "</div>"
      ],
      "text/plain": [
       "     Item_Identifier  Item_Weight Item_Fat_Content  Item_Visibility  \\\n",
       "1921           FDN08         7.72          Regular         0.147904   \n",
       "655            NCJ42        19.75          Low Fat         0.014301   \n",
       "2229           FDY47          NaN          Regular         0.054221   \n",
       "\n",
       "                  Item_Type  Item_MRP Outlet_Identifier  \\\n",
       "1921  Fruits and Vegetables  116.6466            OUT010   \n",
       "655               Household  103.0332            OUT046   \n",
       "2229                 Breads  129.1310            OUT027   \n",
       "\n",
       "      Outlet_Establishment_Year Outlet_Size Outlet_Location_Type  \\\n",
       "1921                       1998         NaN               Tier 3   \n",
       "655                        1997       Small               Tier 1   \n",
       "2229                       1985      Medium               Tier 3   \n",
       "\n",
       "            Outlet_Type  \n",
       "1921      Grocery Store  \n",
       "655   Supermarket Type1  \n",
       "2229  Supermarket Type3  "
      ]
     },
     "execution_count": 5,
     "metadata": {},
     "output_type": "execute_result"
    }
   ],
   "source": [
    "X_train.head(3)"
   ]
  },
  {
   "cell_type": "code",
   "execution_count": 6,
   "id": "3cd24a67",
   "metadata": {},
   "outputs": [
    {
     "data": {
      "text/plain": [
       "1921     117.8466\n",
       "655     1230.3984\n",
       "2229    4933.5780\n",
       "Name: Item_Outlet_Sales, dtype: float64"
      ]
     },
     "execution_count": 6,
     "metadata": {},
     "output_type": "execute_result"
    }
   ],
   "source": [
    "y_train.head(3)"
   ]
  },
  {
   "cell_type": "code",
   "execution_count": 7,
   "id": "22e42f88",
   "metadata": {},
   "outputs": [],
   "source": [
    "#make a data \n",
    "X_train_c = X_train.copy()"
   ]
  },
  {
   "cell_type": "code",
   "execution_count": 8,
   "id": "e499d9b4",
   "metadata": {},
   "outputs": [
    {
     "name": "stdout",
     "output_type": "stream",
     "text": [
      "<class 'pandas.core.frame.DataFrame'>\n",
      "Int64Index: 5966 entries, 1921 to 7270\n",
      "Data columns (total 11 columns):\n",
      " #   Column                     Non-Null Count  Dtype  \n",
      "---  ------                     --------------  -----  \n",
      " 0   Item_Identifier            5966 non-null   object \n",
      " 1   Item_Weight                4943 non-null   float64\n",
      " 2   Item_Fat_Content           5966 non-null   object \n",
      " 3   Item_Visibility            5966 non-null   float64\n",
      " 4   Item_Type                  5966 non-null   object \n",
      " 5   Item_MRP                   5966 non-null   float64\n",
      " 6   Outlet_Identifier          5966 non-null   object \n",
      " 7   Outlet_Establishment_Year  5966 non-null   int64  \n",
      " 8   Outlet_Size                4276 non-null   object \n",
      " 9   Outlet_Location_Type       5966 non-null   object \n",
      " 10  Outlet_Type                5966 non-null   object \n",
      "dtypes: float64(3), int64(1), object(7)\n",
      "memory usage: 559.3+ KB\n"
     ]
    }
   ],
   "source": [
    "X_train_c.info()"
   ]
  },
  {
   "cell_type": "code",
   "execution_count": 9,
   "id": "14f7fd0a",
   "metadata": {},
   "outputs": [
    {
     "data": {
      "text/plain": [
       "Item_Identifier                 0\n",
       "Item_Weight                  1023\n",
       "Item_Fat_Content                0\n",
       "Item_Visibility                 0\n",
       "Item_Type                       0\n",
       "Item_MRP                        0\n",
       "Outlet_Identifier               0\n",
       "Outlet_Establishment_Year       0\n",
       "Outlet_Size                  1690\n",
       "Outlet_Location_Type            0\n",
       "Outlet_Type                     0\n",
       "dtype: int64"
      ]
     },
     "execution_count": 9,
     "metadata": {},
     "output_type": "execute_result"
    }
   ],
   "source": [
    "X_train_c.isnull().sum()"
   ]
  },
  {
   "cell_type": "code",
   "execution_count": 10,
   "id": "74d35335",
   "metadata": {},
   "outputs": [
    {
     "data": {
      "text/html": [
       "<div>\n",
       "<style scoped>\n",
       "    .dataframe tbody tr th:only-of-type {\n",
       "        vertical-align: middle;\n",
       "    }\n",
       "\n",
       "    .dataframe tbody tr th {\n",
       "        vertical-align: top;\n",
       "    }\n",
       "\n",
       "    .dataframe thead th {\n",
       "        text-align: right;\n",
       "    }\n",
       "</style>\n",
       "<table border=\"1\" class=\"dataframe\">\n",
       "  <thead>\n",
       "    <tr style=\"text-align: right;\">\n",
       "      <th></th>\n",
       "      <th>Item_Weight</th>\n",
       "      <th>Item_Visibility</th>\n",
       "      <th>Item_MRP</th>\n",
       "      <th>Outlet_Establishment_Year</th>\n",
       "    </tr>\n",
       "  </thead>\n",
       "  <tbody>\n",
       "    <tr>\n",
       "      <th>1921</th>\n",
       "      <td>7.72</td>\n",
       "      <td>0.147904</td>\n",
       "      <td>116.6466</td>\n",
       "      <td>1998</td>\n",
       "    </tr>\n",
       "    <tr>\n",
       "      <th>655</th>\n",
       "      <td>19.75</td>\n",
       "      <td>0.014301</td>\n",
       "      <td>103.0332</td>\n",
       "      <td>1997</td>\n",
       "    </tr>\n",
       "    <tr>\n",
       "      <th>2229</th>\n",
       "      <td>NaN</td>\n",
       "      <td>0.054221</td>\n",
       "      <td>129.1310</td>\n",
       "      <td>1985</td>\n",
       "    </tr>\n",
       "    <tr>\n",
       "      <th>2537</th>\n",
       "      <td>19.35</td>\n",
       "      <td>0.118342</td>\n",
       "      <td>222.6088</td>\n",
       "      <td>2002</td>\n",
       "    </tr>\n",
       "    <tr>\n",
       "      <th>3528</th>\n",
       "      <td>18.35</td>\n",
       "      <td>0.092150</td>\n",
       "      <td>184.8266</td>\n",
       "      <td>1987</td>\n",
       "    </tr>\n",
       "  </tbody>\n",
       "</table>\n",
       "</div>"
      ],
      "text/plain": [
       "      Item_Weight  Item_Visibility  Item_MRP  Outlet_Establishment_Year\n",
       "1921         7.72         0.147904  116.6466                       1998\n",
       "655         19.75         0.014301  103.0332                       1997\n",
       "2229          NaN         0.054221  129.1310                       1985\n",
       "2537        19.35         0.118342  222.6088                       2002\n",
       "3528        18.35         0.092150  184.8266                       1987"
      ]
     },
     "execution_count": 10,
     "metadata": {},
     "output_type": "execute_result"
    }
   ],
   "source": [
    "num_data = X_train_c.select_dtypes(exclude=['object'])\n",
    "num_data.head()"
   ]
  },
  {
   "cell_type": "code",
   "execution_count": 11,
   "id": "a80cc9f3",
   "metadata": {},
   "outputs": [
    {
     "data": {
      "text/html": [
       "<div>\n",
       "<style scoped>\n",
       "    .dataframe tbody tr th:only-of-type {\n",
       "        vertical-align: middle;\n",
       "    }\n",
       "\n",
       "    .dataframe tbody tr th {\n",
       "        vertical-align: top;\n",
       "    }\n",
       "\n",
       "    .dataframe thead th {\n",
       "        text-align: right;\n",
       "    }\n",
       "</style>\n",
       "<table border=\"1\" class=\"dataframe\">\n",
       "  <thead>\n",
       "    <tr style=\"text-align: right;\">\n",
       "      <th></th>\n",
       "      <th>Item_Weight</th>\n",
       "      <th>Item_Visibility</th>\n",
       "      <th>Item_MRP</th>\n",
       "      <th>Outlet_Establishment_Year</th>\n",
       "    </tr>\n",
       "  </thead>\n",
       "  <tbody>\n",
       "    <tr>\n",
       "      <th>count</th>\n",
       "      <td>4943.000000</td>\n",
       "      <td>5966.000000</td>\n",
       "      <td>5966.000000</td>\n",
       "      <td>5966.000000</td>\n",
       "    </tr>\n",
       "    <tr>\n",
       "      <th>mean</th>\n",
       "      <td>12.937193</td>\n",
       "      <td>0.065821</td>\n",
       "      <td>141.814242</td>\n",
       "      <td>1997.867248</td>\n",
       "    </tr>\n",
       "    <tr>\n",
       "      <th>std</th>\n",
       "      <td>4.630433</td>\n",
       "      <td>0.051093</td>\n",
       "      <td>62.627609</td>\n",
       "      <td>8.385023</td>\n",
       "    </tr>\n",
       "    <tr>\n",
       "      <th>min</th>\n",
       "      <td>4.555000</td>\n",
       "      <td>0.000000</td>\n",
       "      <td>31.290000</td>\n",
       "      <td>1985.000000</td>\n",
       "    </tr>\n",
       "    <tr>\n",
       "      <th>25%</th>\n",
       "      <td>8.895000</td>\n",
       "      <td>0.026982</td>\n",
       "      <td>94.144250</td>\n",
       "      <td>1987.000000</td>\n",
       "    </tr>\n",
       "    <tr>\n",
       "      <th>50%</th>\n",
       "      <td>12.650000</td>\n",
       "      <td>0.053923</td>\n",
       "      <td>143.879900</td>\n",
       "      <td>1999.000000</td>\n",
       "    </tr>\n",
       "    <tr>\n",
       "      <th>75%</th>\n",
       "      <td>17.000000</td>\n",
       "      <td>0.094350</td>\n",
       "      <td>186.621400</td>\n",
       "      <td>2004.000000</td>\n",
       "    </tr>\n",
       "    <tr>\n",
       "      <th>max</th>\n",
       "      <td>21.350000</td>\n",
       "      <td>0.328391</td>\n",
       "      <td>266.888400</td>\n",
       "      <td>2009.000000</td>\n",
       "    </tr>\n",
       "  </tbody>\n",
       "</table>\n",
       "</div>"
      ],
      "text/plain": [
       "       Item_Weight  Item_Visibility     Item_MRP  Outlet_Establishment_Year\n",
       "count  4943.000000      5966.000000  5966.000000                5966.000000\n",
       "mean     12.937193         0.065821   141.814242                1997.867248\n",
       "std       4.630433         0.051093    62.627609                   8.385023\n",
       "min       4.555000         0.000000    31.290000                1985.000000\n",
       "25%       8.895000         0.026982    94.144250                1987.000000\n",
       "50%      12.650000         0.053923   143.879900                1999.000000\n",
       "75%      17.000000         0.094350   186.621400                2004.000000\n",
       "max      21.350000         0.328391   266.888400                2009.000000"
      ]
     },
     "execution_count": 11,
     "metadata": {},
     "output_type": "execute_result"
    }
   ],
   "source": [
    "num_data.describe()"
   ]
  },
  {
   "cell_type": "code",
   "execution_count": 12,
   "id": "eed94732",
   "metadata": {},
   "outputs": [
    {
     "data": {
      "text/plain": [
       "Item_Weight                  1023\n",
       "Item_Visibility                 0\n",
       "Item_MRP                        0\n",
       "Outlet_Establishment_Year       0\n",
       "dtype: int64"
      ]
     },
     "execution_count": 12,
     "metadata": {},
     "output_type": "execute_result"
    }
   ],
   "source": [
    "num_data.isnull().sum()"
   ]
  },
  {
   "cell_type": "code",
   "execution_count": 13,
   "id": "cd78c9c2",
   "metadata": {},
   "outputs": [],
   "source": [
    "import seaborn as sns\n",
    "import matplotlib.pyplot as plt"
   ]
  },
  {
   "cell_type": "code",
   "execution_count": 14,
   "id": "b9d14c2f",
   "metadata": {},
   "outputs": [
    {
     "data": {
      "text/plain": [
       "<Axes: ylabel='Item_Weight'>"
      ]
     },
     "execution_count": 14,
     "metadata": {},
     "output_type": "execute_result"
    },
    {
     "data": {
      "image/png": "[encoded data removed]",
      "text/plain": [
       "<Figure size 1200x500 with 2 Axes>"
      ]
     },
     "metadata": {},
     "output_type": "display_data"
    }
   ],
   "source": [
    "# Create a figure with 1 row and 2 columns\n",
    "fig, ax = plt.subplots(1, 2, figsize=(12, 5))\n",
    "\n",
    "# Create the first subplot (histplot)\n",
    "sns.histplot(data=X_train_c, x=\"Item_Weight\", ax=ax[0])\n",
    "\n",
    "# Create the second subplot (boxplot)\n",
    "sns.boxplot(data=X_train_c, y=\"Item_Weight\", ax=ax[1])"
   ]
  },
  {
   "cell_type": "code",
   "execution_count": 15,
   "id": "ce1088d4",
   "metadata": {},
   "outputs": [],
   "source": [
    "def visualize_numeric_feature(data_frame, col_name):\n",
    "    fig, ax = plt.subplots(1, 2, figsize=(12, 5))\n",
    "    sns.histplot(data=data_frame, x=col_name, ax=ax[0])\n",
    "    sns.boxplot(data=data_frame, y=col_name, ax=ax[1])"
   ]
  },
  {
   "cell_type": "code",
   "execution_count": 16,
   "id": "f58c60b4",
   "metadata": {},
   "outputs": [
    {
     "data": {
      "image/png": "[encoded data removed]",
      "text/plain": [
       "<Figure size 1200x500 with 2 Axes>"
      ]
     },
     "metadata": {},
     "output_type": "display_data"
    }
   ],
   "source": [
    "visualize_numeric_feature(X_train_c, 'Item_Weight')"
   ]
  },
  {
   "cell_type": "code",
   "execution_count": 171,
   "id": "4879e406",
   "metadata": {},
   "outputs": [
    {
     "data": {
      "image/png": "[encoded data removed]",
      "text/plain": [
       "<Figure size 1200x500 with 2 Axes>"
      ]
     },
     "metadata": {},
     "output_type": "display_data"
    }
   ],
   "source": [
    "visualize_numeric_feature(X_train_c, 'Item_Visibility')"
   ]
  },
  {
   "cell_type": "code",
   "execution_count": 18,
   "id": "29a0c217",
   "metadata": {},
   "outputs": [
    {
     "data": {
      "image/png": "[encoded data removed]",
      "text/plain": [
       "<Figure size 1200x500 with 2 Axes>"
      ]
     },
     "metadata": {},
     "output_type": "display_data"
    }
   ],
   "source": [
    "visualize_numeric_feature(X_train_c, 'Outlet_Establishment_Year')"
   ]
  },
  {
   "cell_type": "code",
   "execution_count": 19,
   "id": "0d37c049",
   "metadata": {},
   "outputs": [
    {
     "data": {
      "text/plain": [
       "<Axes: xlabel='Outlet_Establishment_Year', ylabel='count'>"
      ]
     },
     "execution_count": 19,
     "metadata": {},
     "output_type": "execute_result"
    },
    {
     "data": {
      "image/png": "[encoded data removed]",
      "text/plain": [
       "<Figure size 640x480 with 1 Axes>"
      ]
     },
     "metadata": {},
     "output_type": "display_data"
    }
   ],
   "source": [
    "sns.countplot(data=X_train_c, x = 'Outlet_Establishment_Year')"
   ]
  },
  {
   "cell_type": "code",
   "execution_count": 20,
   "id": "907264eb",
   "metadata": {},
   "outputs": [
    {
     "data": {
      "text/html": [
       "<div>\n",
       "<style scoped>\n",
       "    .dataframe tbody tr th:only-of-type {\n",
       "        vertical-align: middle;\n",
       "    }\n",
       "\n",
       "    .dataframe tbody tr th {\n",
       "        vertical-align: top;\n",
       "    }\n",
       "\n",
       "    .dataframe thead th {\n",
       "        text-align: right;\n",
       "    }\n",
       "</style>\n",
       "<table border=\"1\" class=\"dataframe\">\n",
       "  <thead>\n",
       "    <tr style=\"text-align: right;\">\n",
       "      <th></th>\n",
       "      <th>Item_Identifier</th>\n",
       "      <th>Item_Fat_Content</th>\n",
       "      <th>Item_Type</th>\n",
       "      <th>Outlet_Identifier</th>\n",
       "      <th>Outlet_Size</th>\n",
       "      <th>Outlet_Location_Type</th>\n",
       "      <th>Outlet_Type</th>\n",
       "    </tr>\n",
       "  </thead>\n",
       "  <tbody>\n",
       "    <tr>\n",
       "      <th>1921</th>\n",
       "      <td>FDN08</td>\n",
       "      <td>Regular</td>\n",
       "      <td>Fruits and Vegetables</td>\n",
       "      <td>OUT010</td>\n",
       "      <td>NaN</td>\n",
       "      <td>Tier 3</td>\n",
       "      <td>Grocery Store</td>\n",
       "    </tr>\n",
       "    <tr>\n",
       "      <th>655</th>\n",
       "      <td>NCJ42</td>\n",
       "      <td>Low Fat</td>\n",
       "      <td>Household</td>\n",
       "      <td>OUT046</td>\n",
       "      <td>Small</td>\n",
       "      <td>Tier 1</td>\n",
       "      <td>Supermarket Type1</td>\n",
       "    </tr>\n",
       "    <tr>\n",
       "      <th>2229</th>\n",
       "      <td>FDY47</td>\n",
       "      <td>Regular</td>\n",
       "      <td>Breads</td>\n",
       "      <td>OUT027</td>\n",
       "      <td>Medium</td>\n",
       "      <td>Tier 3</td>\n",
       "      <td>Supermarket Type3</td>\n",
       "    </tr>\n",
       "    <tr>\n",
       "      <th>2537</th>\n",
       "      <td>FDN45</td>\n",
       "      <td>Low Fat</td>\n",
       "      <td>Snack Foods</td>\n",
       "      <td>OUT045</td>\n",
       "      <td>NaN</td>\n",
       "      <td>Tier 2</td>\n",
       "      <td>Supermarket Type1</td>\n",
       "    </tr>\n",
       "    <tr>\n",
       "      <th>3528</th>\n",
       "      <td>FDY16</td>\n",
       "      <td>Regular</td>\n",
       "      <td>Frozen Foods</td>\n",
       "      <td>OUT013</td>\n",
       "      <td>High</td>\n",
       "      <td>Tier 3</td>\n",
       "      <td>Supermarket Type1</td>\n",
       "    </tr>\n",
       "  </tbody>\n",
       "</table>\n",
       "</div>"
      ],
      "text/plain": [
       "     Item_Identifier Item_Fat_Content              Item_Type  \\\n",
       "1921           FDN08          Regular  Fruits and Vegetables   \n",
       "655            NCJ42          Low Fat              Household   \n",
       "2229           FDY47          Regular                 Breads   \n",
       "2537           FDN45          Low Fat            Snack Foods   \n",
       "3528           FDY16          Regular           Frozen Foods   \n",
       "\n",
       "     Outlet_Identifier Outlet_Size Outlet_Location_Type        Outlet_Type  \n",
       "1921            OUT010         NaN               Tier 3      Grocery Store  \n",
       "655             OUT046       Small               Tier 1  Supermarket Type1  \n",
       "2229            OUT027      Medium               Tier 3  Supermarket Type3  \n",
       "2537            OUT045         NaN               Tier 2  Supermarket Type1  \n",
       "3528            OUT013        High               Tier 3  Supermarket Type1  "
      ]
     },
     "execution_count": 20,
     "metadata": {},
     "output_type": "execute_result"
    }
   ],
   "source": [
    "cat_features = X_train_c.select_dtypes(include=['object'])\n",
    "cat_features.head()"
   ]
  },
  {
   "cell_type": "code",
   "execution_count": 21,
   "id": "2f9cefb6",
   "metadata": {},
   "outputs": [
    {
     "data": {
      "text/html": [
       "<div>\n",
       "<style scoped>\n",
       "    .dataframe tbody tr th:only-of-type {\n",
       "        vertical-align: middle;\n",
       "    }\n",
       "\n",
       "    .dataframe tbody tr th {\n",
       "        vertical-align: top;\n",
       "    }\n",
       "\n",
       "    .dataframe thead th {\n",
       "        text-align: right;\n",
       "    }\n",
       "</style>\n",
       "<table border=\"1\" class=\"dataframe\">\n",
       "  <thead>\n",
       "    <tr style=\"text-align: right;\">\n",
       "      <th></th>\n",
       "      <th>Item_Identifier</th>\n",
       "      <th>Item_Fat_Content</th>\n",
       "      <th>Item_Type</th>\n",
       "      <th>Outlet_Identifier</th>\n",
       "      <th>Outlet_Size</th>\n",
       "      <th>Outlet_Location_Type</th>\n",
       "      <th>Outlet_Type</th>\n",
       "    </tr>\n",
       "  </thead>\n",
       "  <tbody>\n",
       "    <tr>\n",
       "      <th>count</th>\n",
       "      <td>5966</td>\n",
       "      <td>5966</td>\n",
       "      <td>5966</td>\n",
       "      <td>5966</td>\n",
       "      <td>4276</td>\n",
       "      <td>5966</td>\n",
       "      <td>5966</td>\n",
       "    </tr>\n",
       "    <tr>\n",
       "      <th>unique</th>\n",
       "      <td>1543</td>\n",
       "      <td>5</td>\n",
       "      <td>16</td>\n",
       "      <td>10</td>\n",
       "      <td>3</td>\n",
       "      <td>3</td>\n",
       "      <td>4</td>\n",
       "    </tr>\n",
       "    <tr>\n",
       "      <th>top</th>\n",
       "      <td>NCI54</td>\n",
       "      <td>Low Fat</td>\n",
       "      <td>Fruits and Vegetables</td>\n",
       "      <td>OUT027</td>\n",
       "      <td>Medium</td>\n",
       "      <td>Tier 3</td>\n",
       "      <td>Supermarket Type1</td>\n",
       "    </tr>\n",
       "    <tr>\n",
       "      <th>freq</th>\n",
       "      <td>9</td>\n",
       "      <td>3535</td>\n",
       "      <td>905</td>\n",
       "      <td>668</td>\n",
       "      <td>1960</td>\n",
       "      <td>2367</td>\n",
       "      <td>3893</td>\n",
       "    </tr>\n",
       "  </tbody>\n",
       "</table>\n",
       "</div>"
      ],
      "text/plain": [
       "       Item_Identifier Item_Fat_Content              Item_Type  \\\n",
       "count             5966             5966                   5966   \n",
       "unique            1543                5                     16   \n",
       "top              NCI54          Low Fat  Fruits and Vegetables   \n",
       "freq                 9             3535                    905   \n",
       "\n",
       "       Outlet_Identifier Outlet_Size Outlet_Location_Type        Outlet_Type  \n",
       "count               5966        4276                 5966               5966  \n",
       "unique                10           3                    3                  4  \n",
       "top               OUT027      Medium               Tier 3  Supermarket Type1  \n",
       "freq                 668        1960                 2367               3893  "
      ]
     },
     "execution_count": 21,
     "metadata": {},
     "output_type": "execute_result"
    }
   ],
   "source": [
    "cat_features.describe()"
   ]
  },
  {
   "cell_type": "code",
   "execution_count": 22,
   "id": "1a509d2b",
   "metadata": {},
   "outputs": [
    {
     "data": {
      "text/plain": [
       "Item_Identifier            0\n",
       "Item_Fat_Content           0\n",
       "Item_Type                  0\n",
       "Outlet_Identifier          0\n",
       "Outlet_Size             1690\n",
       "Outlet_Location_Type       0\n",
       "Outlet_Type                0\n",
       "dtype: int64"
      ]
     },
     "execution_count": 22,
     "metadata": {},
     "output_type": "execute_result"
    }
   ],
   "source": [
    "cat_features.isnull().sum()"
   ]
  },
  {
   "cell_type": "code",
   "execution_count": 23,
   "id": "068796bc",
   "metadata": {},
   "outputs": [
    {
     "data": {
      "text/plain": [
       "NCI54    9\n",
       "FDF52    9\n",
       "FDV60    8\n",
       "FDT07    8\n",
       "NCB18    8\n",
       "        ..\n",
       "FDT47    1\n",
       "NCW42    1\n",
       "DRH59    1\n",
       "FDV14    1\n",
       "FDG28    1\n",
       "Name: Item_Identifier, Length: 1543, dtype: int64"
      ]
     },
     "execution_count": 23,
     "metadata": {},
     "output_type": "execute_result"
    }
   ],
   "source": [
    " cat_features['Item_Identifier'].value_counts()"
   ]
  },
  {
   "cell_type": "code",
   "execution_count": 24,
   "id": "2026fd65",
   "metadata": {},
   "outputs": [
    {
     "data": {
      "text/plain": [
       "Low Fat    3535\n",
       "Regular    2027\n",
       "LF          243\n",
       "low fat      82\n",
       "reg          79\n",
       "Name: Item_Fat_Content, dtype: int64"
      ]
     },
     "execution_count": 24,
     "metadata": {},
     "output_type": "execute_result"
    }
   ],
   "source": [
    "cat_features['Item_Fat_Content'].value_counts()"
   ]
  },
  {
   "cell_type": "code",
   "execution_count": 25,
   "id": "b92f4016",
   "metadata": {},
   "outputs": [
    {
     "data": {
      "text/plain": [
       "Fruits and Vegetables    905\n",
       "Snack Foods              835\n",
       "Household                648\n",
       "Frozen Foods             591\n",
       "Dairy                    474\n",
       "Canned                   450\n",
       "Baking Goods             438\n",
       "Health and Hygiene       365\n",
       "Soft Drinks              305\n",
       "Meat                     275\n",
       "Hard Drinks              162\n",
       "Breads                   159\n",
       "Others                   124\n",
       "Starchy Foods            116\n",
       "Breakfast                 80\n",
       "Seafood                   39\n",
       "Name: Item_Type, dtype: int64"
      ]
     },
     "execution_count": 25,
     "metadata": {},
     "output_type": "execute_result"
    }
   ],
   "source": [
    "cat_features['Item_Type'].value_counts()"
   ]
  },
  {
   "cell_type": "code",
   "execution_count": 27,
   "id": "b7c48672",
   "metadata": {},
   "outputs": [
    {
     "data": {
      "text/plain": [
       "OUT027    668\n",
       "OUT018    661\n",
       "OUT046    656\n",
       "OUT035    656\n",
       "OUT017    652\n",
       "OUT045    649\n",
       "OUT013    649\n",
       "OUT049    631\n",
       "OUT010    389\n",
       "OUT019    355\n",
       "Name: Outlet_Identifier, dtype: int64"
      ]
     },
     "execution_count": 27,
     "metadata": {},
     "output_type": "execute_result"
    }
   ],
   "source": [
    "cat_features['Outlet_Identifier'].value_counts()"
   ]
  },
  {
   "cell_type": "code",
   "execution_count": 28,
   "id": "d7ba7ba0",
   "metadata": {},
   "outputs": [
    {
     "data": {
      "text/plain": [
       "Medium    1960\n",
       "Small     1667\n",
       "High       649\n",
       "Name: Outlet_Size, dtype: int64"
      ]
     },
     "execution_count": 28,
     "metadata": {},
     "output_type": "execute_result"
    }
   ],
   "source": [
    "cat_features['Outlet_Size'].value_counts()"
   ]
  },
  {
   "cell_type": "code",
   "execution_count": 29,
   "id": "b5e835c8",
   "metadata": {},
   "outputs": [
    {
     "data": {
      "text/plain": [
       "Tier 3    2367\n",
       "Tier 2    1957\n",
       "Tier 1    1642\n",
       "Name: Outlet_Location_Type, dtype: int64"
      ]
     },
     "execution_count": 29,
     "metadata": {},
     "output_type": "execute_result"
    }
   ],
   "source": [
    "cat_features['Outlet_Location_Type'].value_counts()"
   ]
  },
  {
   "cell_type": "code",
   "execution_count": 30,
   "id": "7405b583",
   "metadata": {},
   "outputs": [
    {
     "data": {
      "text/plain": [
       "Supermarket Type1    3893\n",
       "Grocery Store         744\n",
       "Supermarket Type3     668\n",
       "Supermarket Type2     661\n",
       "Name: Outlet_Type, dtype: int64"
      ]
     },
     "execution_count": 30,
     "metadata": {},
     "output_type": "execute_result"
    }
   ],
   "source": [
    "cat_features['Outlet_Type'].value_counts()"
   ]
  },
  {
   "cell_type": "code",
   "execution_count": 31,
   "id": "b2363e46",
   "metadata": {},
   "outputs": [
    {
     "name": "stdout",
     "output_type": "stream",
     "text": [
      "count    7060.000000\n",
      "mean       12.857645\n",
      "std         4.643456\n",
      "min         4.555000\n",
      "25%         8.773750\n",
      "50%        12.600000\n",
      "75%        16.850000\n",
      "max        21.350000\n",
      "Name: Item_Weight, dtype: float64\n"
     ]
    }
   ],
   "source": [
    "summary_stats = df['Item_Weight'].describe()\n",
    "print(summary_stats)"
   ]
  },
  {
   "cell_type": "code",
   "execution_count": 32,
   "id": "6ea287a8",
   "metadata": {},
   "outputs": [
    {
     "name": "stdout",
     "output_type": "stream",
     "text": [
      "       Item_Weight  Item_Visibility     Item_MRP  Outlet_Establishment_Year  \\\n",
      "count  7060.000000      8523.000000  8523.000000                8523.000000   \n",
      "mean     12.857645         0.066132   140.992782                1997.831867   \n",
      "std       4.643456         0.051598    62.275067                   8.371760   \n",
      "min       4.555000         0.000000    31.290000                1985.000000   \n",
      "25%       8.773750         0.026989    93.826500                1987.000000   \n",
      "50%      12.600000         0.053931   143.012800                1999.000000   \n",
      "75%      16.850000         0.094585   185.643700                2004.000000   \n",
      "max      21.350000         0.328391   266.888400                2009.000000   \n",
      "\n",
      "       Item_Outlet_Sales  \n",
      "count        8523.000000  \n",
      "mean         2181.288914  \n",
      "std          1706.499616  \n",
      "min            33.290000  \n",
      "25%           834.247400  \n",
      "50%          1794.331000  \n",
      "75%          3101.296400  \n",
      "max         13086.964800  \n"
     ]
    }
   ],
   "source": [
    "summary_stats = df.describe()\n",
    "print(summary_stats)"
   ]
  },
  {
   "cell_type": "code",
   "execution_count": 33,
   "id": "59e44a68",
   "metadata": {},
   "outputs": [],
   "source": [
    "import numpy as np\n",
    "import statsmodels.api as sm\n",
    "\n",
    "\n",
    "# Handle missing values by imputing with the mean\n",
    "df['Item_Weight'].fillna(df['Item_Weight'].mean(), inplace=True)\n",
    "\n",
    "# Handle infinite values by replacing them with a suitable value (e.g., 0)\n",
    "df['Item_Weight'].replace([np.inf, -np.inf], 0, inplace=True)\n",
    "\n",
    "# Now, you can fit the linear regression model\n",
    "model = sm.OLS(df['Item_Outlet_Sales'], df['Item_Weight']).fit()\n"
   ]
  },
  {
   "cell_type": "code",
   "execution_count": 34,
   "id": "5469b38c",
   "metadata": {},
   "outputs": [
    {
     "name": "stdout",
     "output_type": "stream",
     "text": [
      "Simple Linear Regression Results:\n",
      "Coefficient: 153.5646735402375\n",
      "P-value: 0.0\n",
      "R-squared: 0.5632076370301048\n",
      "\n"
     ]
    }
   ],
   "source": [
    "# Fit a simple linear regression model\n",
    "import statsmodels.api as sm\n",
    "\n",
    "\n",
    "model = sm.OLS(df['Item_Outlet_Sales'], df['Item_Weight']).fit()\n",
    "\n",
    "# Extract model information\n",
    "coefficient = model.params['Item_Weight']\n",
    "p_value = model.pvalues['Item_Weight']\n",
    "r_squared = model.rsquared\n",
    "\n",
    "# Create a summary report\n",
    "report = f\"Simple Linear Regression Results:\\n\"\n",
    "report += f\"Coefficient: {coefficient}\\n\"\n",
    "report += f\"P-value: {p_value}\\n\"\n",
    "report += f\"R-squared: {r_squared}\\n\"\n",
    "\n",
    "print(report)"
   ]
  },
  {
   "cell_type": "code",
   "execution_count": 35,
   "id": "9234a780",
   "metadata": {},
   "outputs": [
    {
     "name": "stdout",
     "output_type": "stream",
     "text": [
      "       Item_Identifier  Item_Weight Item_Fat_Content  Item_Visibility  \\\n",
      "count             8523  8523.000000             8523      8523.000000   \n",
      "unique            1559          NaN                5              NaN   \n",
      "top              FDW13          NaN          Low Fat              NaN   \n",
      "freq                10          NaN             5089              NaN   \n",
      "mean               NaN    12.857645              NaN         0.066132   \n",
      "std                NaN     4.226124              NaN         0.051598   \n",
      "min                NaN     4.555000              NaN         0.000000   \n",
      "25%                NaN     9.310000              NaN         0.026989   \n",
      "50%                NaN    12.857645              NaN         0.053931   \n",
      "75%                NaN    16.000000              NaN         0.094585   \n",
      "max                NaN    21.350000              NaN         0.328391   \n",
      "\n",
      "                    Item_Type     Item_MRP Outlet_Identifier  \\\n",
      "count                    8523  8523.000000              8523   \n",
      "unique                     16          NaN                10   \n",
      "top     Fruits and Vegetables          NaN            OUT027   \n",
      "freq                     1232          NaN               935   \n",
      "mean                      NaN   140.992782               NaN   \n",
      "std                       NaN    62.275067               NaN   \n",
      "min                       NaN    31.290000               NaN   \n",
      "25%                       NaN    93.826500               NaN   \n",
      "50%                       NaN   143.012800               NaN   \n",
      "75%                       NaN   185.643700               NaN   \n",
      "max                       NaN   266.888400               NaN   \n",
      "\n",
      "        Outlet_Establishment_Year Outlet_Size Outlet_Location_Type  \\\n",
      "count                 8523.000000        6113                 8523   \n",
      "unique                        NaN           3                    3   \n",
      "top                           NaN      Medium               Tier 3   \n",
      "freq                          NaN        2793                 3350   \n",
      "mean                  1997.831867         NaN                  NaN   \n",
      "std                      8.371760         NaN                  NaN   \n",
      "min                   1985.000000         NaN                  NaN   \n",
      "25%                   1987.000000         NaN                  NaN   \n",
      "50%                   1999.000000         NaN                  NaN   \n",
      "75%                   2004.000000         NaN                  NaN   \n",
      "max                   2009.000000         NaN                  NaN   \n",
      "\n",
      "              Outlet_Type  Item_Outlet_Sales  \n",
      "count                8523        8523.000000  \n",
      "unique                  4                NaN  \n",
      "top     Supermarket Type1                NaN  \n",
      "freq                 5577                NaN  \n",
      "mean                  NaN        2181.288914  \n",
      "std                   NaN        1706.499616  \n",
      "min                   NaN          33.290000  \n",
      "25%                   NaN         834.247400  \n",
      "50%                   NaN        1794.331000  \n",
      "75%                   NaN        3101.296400  \n",
      "max                   NaN       13086.964800  \n"
     ]
    }
   ],
   "source": [
    "summary_stats = df.describe(include='all')\n",
    "print(summary_stats)"
   ]
  },
  {
   "cell_type": "code",
   "execution_count": 36,
   "id": "898e8375",
   "metadata": {},
   "outputs": [
    {
     "name": "stderr",
     "output_type": "stream",
     "text": [
      "C:\\Users\\Patron\\AppData\\Local\\Temp\\ipykernel_296\\821249894.py:4: FutureWarning: The default value of numeric_only in DataFrame.corr is deprecated. In a future version, it will default to False. Select only valid columns or specify the value of numeric_only to silence this warning.\n",
      "  correlation_matrix = df.corr()\n"
     ]
    }
   ],
   "source": [
    "import pandas as pd\n",
    "\n",
    "# Assuming df is your DataFrame\n",
    "correlation_matrix = df.corr()\n",
    "\n",
    "# Extract correlations with the target variable\n",
    "correlations_with_target = correlation_matrix['Item_Outlet_Sales']\n",
    "\n",
    "# Sort the correlations in descending order\n",
    "sorted_correlations = correlations_with_target.sort_values(ascending=False)\n"
   ]
  },
  {
   "cell_type": "code",
   "execution_count": 37,
   "id": "ab562841",
   "metadata": {},
   "outputs": [
    {
     "name": "stdout",
     "output_type": "stream",
     "text": [
      "Item_Outlet_Sales            1.000000\n",
      "Item_MRP                     0.567574\n",
      "Item_Weight                  0.011550\n",
      "Outlet_Establishment_Year   -0.049135\n",
      "Item_Visibility             -0.128625\n",
      "Name: Item_Outlet_Sales, dtype: float64\n"
     ]
    },
    {
     "name": "stderr",
     "output_type": "stream",
     "text": [
      "C:\\Users\\Patron\\AppData\\Local\\Temp\\ipykernel_296\\390189288.py:1: FutureWarning: The default value of numeric_only in DataFrame.corr is deprecated. In a future version, it will default to False. Select only valid columns or specify the value of numeric_only to silence this warning.\n",
      "  correlation_matrix = df.corr()\n"
     ]
    }
   ],
   "source": [
    "correlation_matrix = df.corr()\n",
    "correlations_with_target = correlation_matrix['Item_Outlet_Sales']\n",
    "sorted_correlations = correlations_with_target.sort_values(ascending=False)\n",
    "print(sorted_correlations)"
   ]
  },
  {
   "cell_type": "code",
   "execution_count": 38,
   "id": "3bf1daa7",
   "metadata": {},
   "outputs": [
    {
     "data": {
      "text/plain": [
       "1921    FDN08\n",
       "655     NCJ42\n",
       "2229    FDY47\n",
       "2537    FDN45\n",
       "3528    FDY16\n",
       "        ...  \n",
       "5734    FDY08\n",
       "5191    FDC41\n",
       "5390    NCQ53\n",
       "860     FDL46\n",
       "7270    NCN30\n",
       "Name: Item_Identifier, Length: 5966, dtype: object"
      ]
     },
     "execution_count": 38,
     "metadata": {},
     "output_type": "execute_result"
    }
   ],
   "source": [
    "X_train_c['Item_Identifier']"
   ]
  },
  {
   "cell_type": "code",
   "execution_count": 39,
   "id": "07d34a41",
   "metadata": {},
   "outputs": [
    {
     "data": {
      "text/plain": [
       "FD    4269\n",
       "NC    1137\n",
       "DR     560\n",
       "Name: Item_Identifier, dtype: int64"
      ]
     },
     "execution_count": 39,
     "metadata": {},
     "output_type": "execute_result"
    }
   ],
   "source": [
    "X_train_c['Item_Identifier'].apply(lambda x: x[:2]).value_counts()"
   ]
  },
  {
   "cell_type": "code",
   "execution_count": 40,
   "id": "69d27702",
   "metadata": {},
   "outputs": [
    {
     "data": {
      "text/plain": [
       "FD    4269\n",
       "NC    1137\n",
       "DR     560\n",
       "Name: Item_Identifier, dtype: int64"
      ]
     },
     "execution_count": 40,
     "metadata": {},
     "output_type": "execute_result"
    }
   ],
   "source": [
    "X_train_c['Item_Identifier'].str[:2].value_counts()"
   ]
  },
  {
   "cell_type": "code",
   "execution_count": 41,
   "id": "5efb48ce",
   "metadata": {},
   "outputs": [],
   "source": [
    "def create_Item_type(data_frame):\n",
    "    data_frame['Item_Type'] = data_frame['Item_Identifier'].str[:2]\n",
    "    data_frame['Item_Type'] = data_frame['Item_Type'].map({'FD' : 'Food', 'NC' : 'Non_Consumables', 'DR' : 'Drink'})\n",
    "    \n",
    "    return data_frame"
   ]
  },
  {
   "cell_type": "code",
   "execution_count": 45,
   "id": "3f39f5ce",
   "metadata": {},
   "outputs": [
    {
     "data": {
      "text/html": [
       "<div>\n",
       "<style scoped>\n",
       "    .dataframe tbody tr th:only-of-type {\n",
       "        vertical-align: middle;\n",
       "    }\n",
       "\n",
       "    .dataframe tbody tr th {\n",
       "        vertical-align: top;\n",
       "    }\n",
       "\n",
       "    .dataframe thead th {\n",
       "        text-align: right;\n",
       "    }\n",
       "</style>\n",
       "<table border=\"1\" class=\"dataframe\">\n",
       "  <thead>\n",
       "    <tr style=\"text-align: right;\">\n",
       "      <th></th>\n",
       "      <th>Item_Identifier</th>\n",
       "      <th>Item_Weight</th>\n",
       "      <th>Item_Fat_Content</th>\n",
       "      <th>Item_Visibility</th>\n",
       "      <th>Item_Type</th>\n",
       "      <th>Item_MRP</th>\n",
       "      <th>Outlet_Identifier</th>\n",
       "      <th>Outlet_Establishment_Year</th>\n",
       "      <th>Outlet_Size</th>\n",
       "      <th>Outlet_Location_Type</th>\n",
       "      <th>Outlet_Type</th>\n",
       "    </tr>\n",
       "  </thead>\n",
       "  <tbody>\n",
       "    <tr>\n",
       "      <th>1921</th>\n",
       "      <td>FDN08</td>\n",
       "      <td>7.72</td>\n",
       "      <td>Regular</td>\n",
       "      <td>0.147904</td>\n",
       "      <td>Food</td>\n",
       "      <td>116.6466</td>\n",
       "      <td>OUT010</td>\n",
       "      <td>1998</td>\n",
       "      <td>NaN</td>\n",
       "      <td>Tier 3</td>\n",
       "      <td>Grocery Store</td>\n",
       "    </tr>\n",
       "    <tr>\n",
       "      <th>655</th>\n",
       "      <td>NCJ42</td>\n",
       "      <td>19.75</td>\n",
       "      <td>Low Fat</td>\n",
       "      <td>0.014301</td>\n",
       "      <td>Non_Consumables</td>\n",
       "      <td>103.0332</td>\n",
       "      <td>OUT046</td>\n",
       "      <td>1997</td>\n",
       "      <td>Small</td>\n",
       "      <td>Tier 1</td>\n",
       "      <td>Supermarket Type1</td>\n",
       "    </tr>\n",
       "    <tr>\n",
       "      <th>2229</th>\n",
       "      <td>FDY47</td>\n",
       "      <td>NaN</td>\n",
       "      <td>Regular</td>\n",
       "      <td>0.054221</td>\n",
       "      <td>Food</td>\n",
       "      <td>129.1310</td>\n",
       "      <td>OUT027</td>\n",
       "      <td>1985</td>\n",
       "      <td>Medium</td>\n",
       "      <td>Tier 3</td>\n",
       "      <td>Supermarket Type3</td>\n",
       "    </tr>\n",
       "    <tr>\n",
       "      <th>2537</th>\n",
       "      <td>FDN45</td>\n",
       "      <td>19.35</td>\n",
       "      <td>Low Fat</td>\n",
       "      <td>0.118342</td>\n",
       "      <td>Food</td>\n",
       "      <td>222.6088</td>\n",
       "      <td>OUT045</td>\n",
       "      <td>2002</td>\n",
       "      <td>NaN</td>\n",
       "      <td>Tier 2</td>\n",
       "      <td>Supermarket Type1</td>\n",
       "    </tr>\n",
       "    <tr>\n",
       "      <th>3528</th>\n",
       "      <td>FDY16</td>\n",
       "      <td>18.35</td>\n",
       "      <td>Regular</td>\n",
       "      <td>0.092150</td>\n",
       "      <td>Food</td>\n",
       "      <td>184.8266</td>\n",
       "      <td>OUT013</td>\n",
       "      <td>1987</td>\n",
       "      <td>High</td>\n",
       "      <td>Tier 3</td>\n",
       "      <td>Supermarket Type1</td>\n",
       "    </tr>\n",
       "  </tbody>\n",
       "</table>\n",
       "</div>"
      ],
      "text/plain": [
       "     Item_Identifier  Item_Weight Item_Fat_Content  Item_Visibility  \\\n",
       "1921           FDN08         7.72          Regular         0.147904   \n",
       "655            NCJ42        19.75          Low Fat         0.014301   \n",
       "2229           FDY47          NaN          Regular         0.054221   \n",
       "2537           FDN45        19.35          Low Fat         0.118342   \n",
       "3528           FDY16        18.35          Regular         0.092150   \n",
       "\n",
       "            Item_Type  Item_MRP Outlet_Identifier  Outlet_Establishment_Year  \\\n",
       "1921             Food  116.6466            OUT010                       1998   \n",
       "655   Non_Consumables  103.0332            OUT046                       1997   \n",
       "2229             Food  129.1310            OUT027                       1985   \n",
       "2537             Food  222.6088            OUT045                       2002   \n",
       "3528             Food  184.8266            OUT013                       1987   \n",
       "\n",
       "     Outlet_Size Outlet_Location_Type        Outlet_Type  \n",
       "1921         NaN               Tier 3      Grocery Store  \n",
       "655        Small               Tier 1  Supermarket Type1  \n",
       "2229      Medium               Tier 3  Supermarket Type3  \n",
       "2537         NaN               Tier 2  Supermarket Type1  \n",
       "3528        High               Tier 3  Supermarket Type1  "
      ]
     },
     "execution_count": 45,
     "metadata": {},
     "output_type": "execute_result"
    }
   ],
   "source": [
    "X_train_c = create_Item_type(X_train_c)\n",
    "X_train_c.head()"
   ]
  },
  {
   "cell_type": "code",
   "execution_count": 46,
   "id": "0a3288e6",
   "metadata": {},
   "outputs": [
    {
     "data": {
      "text/plain": [
       "Item_Identifier                 0\n",
       "Item_Weight                  1023\n",
       "Item_Fat_Content                0\n",
       "Item_Visibility                 0\n",
       "Item_Type                       0\n",
       "Item_MRP                        0\n",
       "Outlet_Identifier               0\n",
       "Outlet_Establishment_Year       0\n",
       "Outlet_Size                  1690\n",
       "Outlet_Location_Type            0\n",
       "Outlet_Type                     0\n",
       "dtype: int64"
      ]
     },
     "execution_count": 46,
     "metadata": {},
     "output_type": "execute_result"
    }
   ],
   "source": [
    "X_train_c.isnull().sum()"
   ]
  },
  {
   "cell_type": "code",
   "execution_count": 48,
   "id": "a9a5ef9d",
   "metadata": {},
   "outputs": [
    {
     "data": {
      "text/html": [
       "<div>\n",
       "<style scoped>\n",
       "    .dataframe tbody tr th:only-of-type {\n",
       "        vertical-align: middle;\n",
       "    }\n",
       "\n",
       "    .dataframe tbody tr th {\n",
       "        vertical-align: top;\n",
       "    }\n",
       "\n",
       "    .dataframe thead th {\n",
       "        text-align: right;\n",
       "    }\n",
       "</style>\n",
       "<table border=\"1\" class=\"dataframe\">\n",
       "  <thead>\n",
       "    <tr style=\"text-align: right;\">\n",
       "      <th></th>\n",
       "      <th>Item_Identifier</th>\n",
       "      <th>Item_Weight</th>\n",
       "    </tr>\n",
       "  </thead>\n",
       "  <tbody>\n",
       "    <tr>\n",
       "      <th>1245</th>\n",
       "      <td>DRA12</td>\n",
       "      <td>11.60</td>\n",
       "    </tr>\n",
       "    <tr>\n",
       "      <th>4900</th>\n",
       "      <td>DRA24</td>\n",
       "      <td>19.35</td>\n",
       "    </tr>\n",
       "    <tr>\n",
       "      <th>6057</th>\n",
       "      <td>DRA59</td>\n",
       "      <td>NaN</td>\n",
       "    </tr>\n",
       "    <tr>\n",
       "      <th>1876</th>\n",
       "      <td>DRA59</td>\n",
       "      <td>8.27</td>\n",
       "    </tr>\n",
       "    <tr>\n",
       "      <th>3733</th>\n",
       "      <td>DRB01</td>\n",
       "      <td>NaN</td>\n",
       "    </tr>\n",
       "    <tr>\n",
       "      <th>...</th>\n",
       "      <td>...</td>\n",
       "      <td>...</td>\n",
       "    </tr>\n",
       "    <tr>\n",
       "      <th>411</th>\n",
       "      <td>NCZ42</td>\n",
       "      <td>10.50</td>\n",
       "    </tr>\n",
       "    <tr>\n",
       "      <th>2084</th>\n",
       "      <td>NCZ53</td>\n",
       "      <td>NaN</td>\n",
       "    </tr>\n",
       "    <tr>\n",
       "      <th>6879</th>\n",
       "      <td>NCZ53</td>\n",
       "      <td>9.60</td>\n",
       "    </tr>\n",
       "    <tr>\n",
       "      <th>7926</th>\n",
       "      <td>NCZ54</td>\n",
       "      <td>14.65</td>\n",
       "    </tr>\n",
       "    <tr>\n",
       "      <th>1896</th>\n",
       "      <td>NCZ54</td>\n",
       "      <td>NaN</td>\n",
       "    </tr>\n",
       "  </tbody>\n",
       "</table>\n",
       "<p>2401 rows × 2 columns</p>\n",
       "</div>"
      ],
      "text/plain": [
       "     Item_Identifier  Item_Weight\n",
       "1245           DRA12        11.60\n",
       "4900           DRA24        19.35\n",
       "6057           DRA59          NaN\n",
       "1876           DRA59         8.27\n",
       "3733           DRB01          NaN\n",
       "...              ...          ...\n",
       "411            NCZ42        10.50\n",
       "2084           NCZ53          NaN\n",
       "6879           NCZ53         9.60\n",
       "7926           NCZ54        14.65\n",
       "1896           NCZ54          NaN\n",
       "\n",
       "[2401 rows x 2 columns]"
      ]
     },
     "execution_count": 48,
     "metadata": {},
     "output_type": "execute_result"
    }
   ],
   "source": [
    "X_train_c[['Item_Identifier', 'Item_Weight']].drop_duplicates().sort_values(by=['Item_Identifier'])\n"
   ]
  },
  {
   "cell_type": "code",
   "execution_count": 49,
   "id": "8032082b",
   "metadata": {},
   "outputs": [
    {
     "data": {
      "text/html": [
       "<div>\n",
       "<style scoped>\n",
       "    .dataframe tbody tr th:only-of-type {\n",
       "        vertical-align: middle;\n",
       "    }\n",
       "\n",
       "    .dataframe tbody tr th {\n",
       "        vertical-align: top;\n",
       "    }\n",
       "\n",
       "    .dataframe thead th {\n",
       "        text-align: right;\n",
       "    }\n",
       "</style>\n",
       "<table border=\"1\" class=\"dataframe\">\n",
       "  <thead>\n",
       "    <tr style=\"text-align: right;\">\n",
       "      <th></th>\n",
       "      <th>Item_Type</th>\n",
       "      <th>Item_Weight</th>\n",
       "    </tr>\n",
       "  </thead>\n",
       "  <tbody>\n",
       "    <tr>\n",
       "      <th>2796</th>\n",
       "      <td>Drink</td>\n",
       "      <td>5.730</td>\n",
       "    </tr>\n",
       "    <tr>\n",
       "      <th>998</th>\n",
       "      <td>Drink</td>\n",
       "      <td>20.250</td>\n",
       "    </tr>\n",
       "    <tr>\n",
       "      <th>670</th>\n",
       "      <td>Drink</td>\n",
       "      <td>8.395</td>\n",
       "    </tr>\n",
       "    <tr>\n",
       "      <th>6091</th>\n",
       "      <td>Drink</td>\n",
       "      <td>13.500</td>\n",
       "    </tr>\n",
       "    <tr>\n",
       "      <th>3438</th>\n",
       "      <td>Drink</td>\n",
       "      <td>13.850</td>\n",
       "    </tr>\n",
       "    <tr>\n",
       "      <th>...</th>\n",
       "      <td>...</td>\n",
       "      <td>...</td>\n",
       "    </tr>\n",
       "    <tr>\n",
       "      <th>6624</th>\n",
       "      <td>Non_Consumables</td>\n",
       "      <td>12.600</td>\n",
       "    </tr>\n",
       "    <tr>\n",
       "      <th>6191</th>\n",
       "      <td>Non_Consumables</td>\n",
       "      <td>8.880</td>\n",
       "    </tr>\n",
       "    <tr>\n",
       "      <th>1911</th>\n",
       "      <td>Non_Consumables</td>\n",
       "      <td>19.850</td>\n",
       "    </tr>\n",
       "    <tr>\n",
       "      <th>135</th>\n",
       "      <td>Non_Consumables</td>\n",
       "      <td>7.235</td>\n",
       "    </tr>\n",
       "    <tr>\n",
       "      <th>6255</th>\n",
       "      <td>Non_Consumables</td>\n",
       "      <td>8.970</td>\n",
       "    </tr>\n",
       "  </tbody>\n",
       "</table>\n",
       "<p>641 rows × 2 columns</p>\n",
       "</div>"
      ],
      "text/plain": [
       "            Item_Type  Item_Weight\n",
       "2796            Drink        5.730\n",
       "998             Drink       20.250\n",
       "670             Drink        8.395\n",
       "6091            Drink       13.500\n",
       "3438            Drink       13.850\n",
       "...               ...          ...\n",
       "6624  Non_Consumables       12.600\n",
       "6191  Non_Consumables        8.880\n",
       "1911  Non_Consumables       19.850\n",
       "135   Non_Consumables        7.235\n",
       "6255  Non_Consumables        8.970\n",
       "\n",
       "[641 rows x 2 columns]"
      ]
     },
     "execution_count": 49,
     "metadata": {},
     "output_type": "execute_result"
    }
   ],
   "source": [
    " X_train_c[['Item_Type', 'Item_Weight']].drop_duplicates().sort_values(by=['Item_Type'])\n"
   ]
  },
  {
   "cell_type": "code",
   "execution_count": 61,
   "id": "991563c5",
   "metadata": {
    "scrolled": true
   },
   "outputs": [
    {
     "data": {
      "text/plain": [
       "[('DRA12', 11.6),\n",
       " ('DRA24', 19.35),\n",
       " ('DRA59', 8.27),\n",
       " ('DRB01', 7.39),\n",
       " ('DRB13', 6.115),\n",
       " ('DRB24', 8.785),\n",
       " ('DRB25', 12.300000000000002),\n",
       " ('DRB48', 16.75),\n",
       " ('DRC01', 5.92),\n",
       " ('DRC12', 17.85)]"
      ]
     },
     "execution_count": 61,
     "metadata": {},
     "output_type": "execute_result"
    }
   ],
   "source": [
    "ITEM_ID_WEIGHT_PIVOT = X_train_c.pivot_table(values='Item_Weight', index='Item_Identifier').reset_index()\n",
    "ITEM_ID_WEIGHT_MAPPING = dict(zip(ITEM_ID_WEIGHT_PIVOT['Item_Identifier'], ITEM_ID_WEIGHT_PIVOT['Item_Weight']))\n",
    "list(Item_ID_WEIGHT_MAPPING.items())[:10]\n"
   ]
  },
  {
   "cell_type": "code",
   "execution_count": 62,
   "id": "a589d891",
   "metadata": {},
   "outputs": [
    {
     "data": {
      "text/plain": [
       "dict_items([('Drink', 11.8), ('Food', 12.8), ('Non_Consumables', 13.05)])"
      ]
     },
     "execution_count": 62,
     "metadata": {},
     "output_type": "execute_result"
    }
   ],
   "source": [
    "ITEM_TYPE_WEIGHT_PIVOT = X_train_c.pivot_table(values='Item_Weight', index='Item_Type', aggfunc='median').reset_index()\n",
    "ITEM_TYPE_WEIGHT_MAPPING = dict(zip(ITEM_TYPE_WEIGHT_PIVOT['Item_Type'], ITEM_TYPE_WEIGHT_PIVOT['Item_Weight']))\n",
    "ITEM_TYPE_WEIGHT_MAPPING.items()\n"
   ]
  },
  {
   "cell_type": "code",
   "execution_count": 63,
   "id": "5c64626d",
   "metadata": {},
   "outputs": [],
   "source": [
    "def impute_item_weight(data_frame):\n",
    "    data_frame.loc[:, 'Item_Weight'] = data_frame.loc[:, 'Item_Weight'].fillna(data_frame.loc[:, 'Item_Identifier'].map(ITEM_ID_WEIGHT_MAPPING))\n",
    "    data_frame.loc[:, 'Item_Weight'] = data_frame.loc[:, 'Item_Weight'].fillna(data_frame.loc[:, 'Item_Type'].map(ITEM_TYPE_WEIGHT_MAPPING))\n",
    "    \n",
    "    return data_frame\n"
   ]
  },
  {
   "cell_type": "code",
   "execution_count": 64,
   "id": "58a1ce0b",
   "metadata": {},
   "outputs": [],
   "source": [
    "X_train_c = impute_item_weight(X_train_c)\n"
   ]
  },
  {
   "cell_type": "code",
   "execution_count": 66,
   "id": "81956faa",
   "metadata": {},
   "outputs": [
    {
     "data": {
      "text/plain": [
       "Item_Identifier                 0\n",
       "Item_Weight                     0\n",
       "Item_Fat_Content                0\n",
       "Item_Visibility                 0\n",
       "Item_Type                       0\n",
       "Item_MRP                        0\n",
       "Outlet_Identifier               0\n",
       "Outlet_Establishment_Year       0\n",
       "Outlet_Size                  1690\n",
       "Outlet_Location_Type            0\n",
       "Outlet_Type                     0\n",
       "dtype: int64"
      ]
     },
     "execution_count": 66,
     "metadata": {},
     "output_type": "execute_result"
    }
   ],
   "source": [
    "X_train_c.isnull().sum()\n"
   ]
  },
  {
   "cell_type": "code",
   "execution_count": 68,
   "id": "d926f93b",
   "metadata": {},
   "outputs": [
    {
     "data": {
      "text/plain": [
       "Outlet_Type        Outlet_Size\n",
       "Grocery Store      Small           355\n",
       "Supermarket Type1  High            649\n",
       "                   Medium          631\n",
       "                   Small          1312\n",
       "Supermarket Type2  Medium          661\n",
       "Supermarket Type3  Medium          668\n",
       "dtype: int64"
      ]
     },
     "execution_count": 68,
     "metadata": {},
     "output_type": "execute_result"
    }
   ],
   "source": [
    "X_train_c.groupby(by=['Outlet_Type', 'Outlet_Size']).size()"
   ]
  },
  {
   "cell_type": "code",
   "execution_count": 75,
   "id": "2b608c74",
   "metadata": {},
   "outputs": [
    {
     "data": {
      "text/plain": [
       "{'Grocery Store': 'Small',\n",
       " 'Supermarket Type1': 'Small',\n",
       " 'Supermarket Type2': 'Medium',\n",
       " 'Supermarket Type3': 'Medium'}"
      ]
     },
     "execution_count": 75,
     "metadata": {},
     "output_type": "execute_result"
    }
   ],
   "source": [
    "OUTLET_TYPE_SIZE_PIVOT = X_train_c.groupby('Outlet_Type')['Outlet_Size'].apply(lambda x: x.mode().iat[0]).reset_index()\n",
    "OUTLET_TYPE_SIZE_MAPPING = dict(zip(OUTLET_TYPE_SIZE_PIVOT['Outlet_Type'], OUTLET_TYPE_SIZE_PIVOT['Outlet_Size']))\n",
    "OUTLET_TYPE_SIZE_MAPPING"
   ]
  },
  {
   "cell_type": "code",
   "execution_count": 76,
   "id": "67be5916",
   "metadata": {},
   "outputs": [
    {
     "name": "stdout",
     "output_type": "stream",
     "text": [
      "         Outlet_Type Outlet_Size\n",
      "0      Grocery Store       Small\n",
      "1  Supermarket Type1       Small\n",
      "2  Supermarket Type2      Medium\n",
      "3  Supermarket Type3      Medium\n"
     ]
    }
   ],
   "source": [
    "print(OUTLET_TYPE_SIZE_PIVOT)\n"
   ]
  },
  {
   "cell_type": "code",
   "execution_count": 77,
   "id": "703f3ced",
   "metadata": {},
   "outputs": [],
   "source": [
    "def impute_outlet_size(data_frame):\n",
    "    data_frame.loc[:, 'Outlet_Size'] = data_frame.loc[:, 'Outlet_Size'].fillna(data_frame.loc[:, 'Outlet_Type'].map(OUTLET_TYPE_SIZE_MAPPING))\n",
    "    \n",
    "    return data_frame\n"
   ]
  },
  {
   "cell_type": "code",
   "execution_count": 78,
   "id": "e85808b6",
   "metadata": {},
   "outputs": [],
   "source": [
    "X_train_c = impute_outlet_size(X_train_c)"
   ]
  },
  {
   "cell_type": "code",
   "execution_count": 79,
   "id": "6ca991c0",
   "metadata": {},
   "outputs": [
    {
     "data": {
      "text/plain": [
       "Item_Identifier              0\n",
       "Item_Weight                  0\n",
       "Item_Fat_Content             0\n",
       "Item_Visibility              0\n",
       "Item_Type                    0\n",
       "Item_MRP                     0\n",
       "Outlet_Identifier            0\n",
       "Outlet_Establishment_Year    0\n",
       "Outlet_Size                  0\n",
       "Outlet_Location_Type         0\n",
       "Outlet_Type                  0\n",
       "dtype: int64"
      ]
     },
     "execution_count": 79,
     "metadata": {},
     "output_type": "execute_result"
    }
   ],
   "source": [
    "X_train_c.isnull().sum()"
   ]
  },
  {
   "cell_type": "code",
   "execution_count": 80,
   "id": "a2162c4a",
   "metadata": {},
   "outputs": [
    {
     "data": {
      "text/plain": [
       "Low Fat    3535\n",
       "Regular    2027\n",
       "LF          243\n",
       "low fat      82\n",
       "reg          79\n",
       "Name: Item_Fat_Content, dtype: int64"
      ]
     },
     "execution_count": 80,
     "metadata": {},
     "output_type": "execute_result"
    }
   ],
   "source": [
    "X_train_c['Item_Fat_Content'].value_counts()"
   ]
  },
  {
   "cell_type": "code",
   "execution_count": 82,
   "id": "16a270f7",
   "metadata": {},
   "outputs": [],
   "source": [
    "def standardize_item_fat_content(data_frame):\n",
    "    data_frame['Item_Fat_Content'] = data_frame['Item_Fat_Content'].replace({\n",
    "        'Low Fat': 'Low_Fat',\n",
    "        'LF': 'Low_Fat',\n",
    "        'reg': 'Regular',\n",
    "        'low fat': 'Low_Fat'\n",
    "    })\n",
    "    return data_frame\n"
   ]
  },
  {
   "cell_type": "code",
   "execution_count": 84,
   "id": "8b63ac19",
   "metadata": {},
   "outputs": [
    {
     "data": {
      "text/plain": [
       "Low_Fat    3860\n",
       "Regular    2106\n",
       "Name: Item_Fat_Content, dtype: int64"
      ]
     },
     "execution_count": 84,
     "metadata": {},
     "output_type": "execute_result"
    }
   ],
   "source": [
    "X_train_c = standardize_item_fat_content(X_train_c)\n",
    "X_train_c['Item_Fat_Content'].value_counts() "
   ]
  },
  {
   "cell_type": "code",
   "execution_count": 85,
   "id": "aab7ad09",
   "metadata": {
    "scrolled": true
   },
   "outputs": [
    {
     "data": {
      "text/plain": [
       "Item_Type        Item_Fat_Content\n",
       "Drink            Low_Fat              517\n",
       "                 Regular               43\n",
       "Food             Low_Fat             2206\n",
       "                 Regular             2063\n",
       "Non_Consumables  Low_Fat             1137\n",
       "dtype: int64"
      ]
     },
     "execution_count": 85,
     "metadata": {},
     "output_type": "execute_result"
    }
   ],
   "source": [
    "X_train_c.groupby(by=['Item_Type', 'Item_Fat_Content']).size()"
   ]
  },
  {
   "cell_type": "code",
   "execution_count": 87,
   "id": "3e0d3b6a",
   "metadata": {},
   "outputs": [
    {
     "data": {
      "text/plain": [
       "655     Low_Fat\n",
       "4423    Low_Fat\n",
       "907     Low_Fat\n",
       "7021    Low_Fat\n",
       "6074    Low_Fat\n",
       "         ...   \n",
       "8322    Low_Fat\n",
       "466     Low_Fat\n",
       "6265    Low_Fat\n",
       "5390    Low_Fat\n",
       "7270    Low_Fat\n",
       "Name: Item_Fat_Content, Length: 1137, dtype: object"
      ]
     },
     "execution_count": 87,
     "metadata": {},
     "output_type": "execute_result"
    }
   ],
   "source": [
    "X_train_c.loc[X_train_c['Item_Type'] == 'Non_Consumables', 'Item_Fat_Content']"
   ]
  },
  {
   "cell_type": "code",
   "execution_count": 88,
   "id": "440d9100",
   "metadata": {},
   "outputs": [],
   "source": [
    "def correct_item_fat_content(data_frame):\n",
    "    data_frame.loc[data_frame['Item_Type'] == 'Non-Consumables', 'Item_Fat_Content'] = 'Non_Edible'\n",
    "    return data_frame "
   ]
  },
  {
   "cell_type": "code",
   "execution_count": 90,
   "id": "13173961",
   "metadata": {},
   "outputs": [
    {
     "data": {
      "text/plain": [
       "Item_Type        Item_Fat_Content\n",
       "Drink            Low_Fat              517\n",
       "                 Regular               43\n",
       "Food             Low_Fat             2206\n",
       "                 Regular             2063\n",
       "Non_Consumables  Low_Fat             1137\n",
       "dtype: int64"
      ]
     },
     "execution_count": 90,
     "metadata": {},
     "output_type": "execute_result"
    }
   ],
   "source": [
    "X_train_c = correct_item_fat_content(X_train_c)\n",
    "X_train_c.groupby(['Item_Type', 'Item_Fat_Content']).size()\n"
   ]
  },
  {
   "cell_type": "code",
   "execution_count": 91,
   "id": "f1bd8af1",
   "metadata": {},
   "outputs": [
    {
     "name": "stdout",
     "output_type": "stream",
     "text": [
      "<class 'pandas.core.frame.DataFrame'>\n",
      "Int64Index: 5966 entries, 1921 to 7270\n",
      "Data columns (total 11 columns):\n",
      " #   Column                     Non-Null Count  Dtype  \n",
      "---  ------                     --------------  -----  \n",
      " 0   Item_Identifier            5966 non-null   object \n",
      " 1   Item_Weight                5966 non-null   float64\n",
      " 2   Item_Fat_Content           5966 non-null   object \n",
      " 3   Item_Visibility            5966 non-null   float64\n",
      " 4   Item_Type                  5966 non-null   object \n",
      " 5   Item_MRP                   5966 non-null   float64\n",
      " 6   Outlet_Identifier          5966 non-null   object \n",
      " 7   Outlet_Establishment_Year  5966 non-null   int64  \n",
      " 8   Outlet_Size                5966 non-null   object \n",
      " 9   Outlet_Location_Type       5966 non-null   object \n",
      " 10  Outlet_Type                5966 non-null   object \n",
      "dtypes: float64(3), int64(1), object(7)\n",
      "memory usage: 559.3+ KB\n"
     ]
    }
   ],
   "source": [
    "X_train_c.info()  #this is our new data set after lots of cleaning"
   ]
  },
  {
   "cell_type": "code",
   "execution_count": 95,
   "id": "e4fe2e12",
   "metadata": {},
   "outputs": [],
   "source": [
    "def prepare_dataset(data_frame):\n",
    "    data_frame = create_Item_type(data_frame) # create item type \n",
    "    data_frame = impute_item_weight(data_frame) #fill in missing values for item_weight\n",
    "    data_frame = impute_outlet_size(data_frame) #fill in missing values for outlet_size \n",
    "    data_frame = standardize_item_fat_content(data_frame) #make item fat content categories consistent\n",
    "    data_frame = correct_item_fat_content(data_frame) #correct item fat content\n",
    "    return data_frame"
   ]
  },
  {
   "cell_type": "code",
   "execution_count": 96,
   "id": "7b2b3206",
   "metadata": {},
   "outputs": [
    {
     "data": {
      "text/plain": [
       "Item_Identifier                 0\n",
       "Item_Weight                  1023\n",
       "Item_Fat_Content                0\n",
       "Item_Visibility                 0\n",
       "Item_Type                       0\n",
       "Item_MRP                        0\n",
       "Outlet_Identifier               0\n",
       "Outlet_Establishment_Year       0\n",
       "Outlet_Size                  1690\n",
       "Outlet_Location_Type            0\n",
       "Outlet_Type                     0\n",
       "dtype: int64"
      ]
     },
     "execution_count": 96,
     "metadata": {},
     "output_type": "execute_result"
    }
   ],
   "source": [
    "X_train.isnull().sum()"
   ]
  },
  {
   "cell_type": "code",
   "execution_count": 97,
   "id": "df2b66bf",
   "metadata": {
    "scrolled": true
   },
   "outputs": [
    {
     "data": {
      "text/plain": [
       "Item_Identifier              0\n",
       "Item_Weight                  0\n",
       "Item_Fat_Content             0\n",
       "Item_Visibility              0\n",
       "Item_Type                    0\n",
       "Item_MRP                     0\n",
       "Outlet_Identifier            0\n",
       "Outlet_Establishment_Year    0\n",
       "Outlet_Size                  0\n",
       "Outlet_Location_Type         0\n",
       "Outlet_Type                  0\n",
       "dtype: int64"
      ]
     },
     "execution_count": 97,
     "metadata": {},
     "output_type": "execute_result"
    }
   ],
   "source": [
    "X_train = prepare_dataset(X_train)\n",
    "X_train.isnull().sum()"
   ]
  },
  {
   "cell_type": "code",
   "execution_count": 98,
   "id": "f4f4144b",
   "metadata": {},
   "outputs": [
    {
     "data": {
      "text/plain": [
       "Item_Identifier                0\n",
       "Item_Weight                  440\n",
       "Item_Fat_Content               0\n",
       "Item_Visibility                0\n",
       "Item_Type                      0\n",
       "Item_MRP                       0\n",
       "Outlet_Identifier              0\n",
       "Outlet_Establishment_Year      0\n",
       "Outlet_Size                  720\n",
       "Outlet_Location_Type           0\n",
       "Outlet_Type                    0\n",
       "dtype: int64"
      ]
     },
     "execution_count": 98,
     "metadata": {},
     "output_type": "execute_result"
    }
   ],
   "source": [
    "X_test.isnull().sum()"
   ]
  },
  {
   "cell_type": "code",
   "execution_count": 99,
   "id": "faeaf124",
   "metadata": {},
   "outputs": [
    {
     "data": {
      "text/plain": [
       "Item_Identifier              0\n",
       "Item_Weight                  0\n",
       "Item_Fat_Content             0\n",
       "Item_Visibility              0\n",
       "Item_Type                    0\n",
       "Item_MRP                     0\n",
       "Outlet_Identifier            0\n",
       "Outlet_Establishment_Year    0\n",
       "Outlet_Size                  0\n",
       "Outlet_Location_Type         0\n",
       "Outlet_Type                  0\n",
       "dtype: int64"
      ]
     },
     "execution_count": 99,
     "metadata": {},
     "output_type": "execute_result"
    }
   ],
   "source": [
    "X_test = prepare_dataset(X_test)\n",
    "X_test.isnull().sum()"
   ]
  },
  {
   "cell_type": "code",
   "execution_count": 100,
   "id": "99e61ff4",
   "metadata": {},
   "outputs": [
    {
     "data": {
      "text/html": [
       "<div>\n",
       "<style scoped>\n",
       "    .dataframe tbody tr th:only-of-type {\n",
       "        vertical-align: middle;\n",
       "    }\n",
       "\n",
       "    .dataframe tbody tr th {\n",
       "        vertical-align: top;\n",
       "    }\n",
       "\n",
       "    .dataframe thead th {\n",
       "        text-align: right;\n",
       "    }\n",
       "</style>\n",
       "<table border=\"1\" class=\"dataframe\">\n",
       "  <thead>\n",
       "    <tr style=\"text-align: right;\">\n",
       "      <th></th>\n",
       "      <th>Item_Identifier</th>\n",
       "      <th>Item_Fat_Content</th>\n",
       "      <th>Item_Type</th>\n",
       "      <th>Outlet_Identifier</th>\n",
       "      <th>Outlet_Size</th>\n",
       "      <th>Outlet_Location_Type</th>\n",
       "      <th>Outlet_Type</th>\n",
       "    </tr>\n",
       "  </thead>\n",
       "  <tbody>\n",
       "    <tr>\n",
       "      <th>1921</th>\n",
       "      <td>FDN08</td>\n",
       "      <td>Regular</td>\n",
       "      <td>Food</td>\n",
       "      <td>OUT010</td>\n",
       "      <td>Small</td>\n",
       "      <td>Tier 3</td>\n",
       "      <td>Grocery Store</td>\n",
       "    </tr>\n",
       "    <tr>\n",
       "      <th>655</th>\n",
       "      <td>NCJ42</td>\n",
       "      <td>Low_Fat</td>\n",
       "      <td>Non_Consumables</td>\n",
       "      <td>OUT046</td>\n",
       "      <td>Small</td>\n",
       "      <td>Tier 1</td>\n",
       "      <td>Supermarket Type1</td>\n",
       "    </tr>\n",
       "    <tr>\n",
       "      <th>2229</th>\n",
       "      <td>FDY47</td>\n",
       "      <td>Regular</td>\n",
       "      <td>Food</td>\n",
       "      <td>OUT027</td>\n",
       "      <td>Medium</td>\n",
       "      <td>Tier 3</td>\n",
       "      <td>Supermarket Type3</td>\n",
       "    </tr>\n",
       "    <tr>\n",
       "      <th>2537</th>\n",
       "      <td>FDN45</td>\n",
       "      <td>Low_Fat</td>\n",
       "      <td>Food</td>\n",
       "      <td>OUT045</td>\n",
       "      <td>Small</td>\n",
       "      <td>Tier 2</td>\n",
       "      <td>Supermarket Type1</td>\n",
       "    </tr>\n",
       "    <tr>\n",
       "      <th>3528</th>\n",
       "      <td>FDY16</td>\n",
       "      <td>Regular</td>\n",
       "      <td>Food</td>\n",
       "      <td>OUT013</td>\n",
       "      <td>High</td>\n",
       "      <td>Tier 3</td>\n",
       "      <td>Supermarket Type1</td>\n",
       "    </tr>\n",
       "  </tbody>\n",
       "</table>\n",
       "</div>"
      ],
      "text/plain": [
       "     Item_Identifier Item_Fat_Content        Item_Type Outlet_Identifier  \\\n",
       "1921           FDN08          Regular             Food            OUT010   \n",
       "655            NCJ42          Low_Fat  Non_Consumables            OUT046   \n",
       "2229           FDY47          Regular             Food            OUT027   \n",
       "2537           FDN45          Low_Fat             Food            OUT045   \n",
       "3528           FDY16          Regular             Food            OUT013   \n",
       "\n",
       "     Outlet_Size Outlet_Location_Type        Outlet_Type  \n",
       "1921       Small               Tier 3      Grocery Store  \n",
       "655        Small               Tier 1  Supermarket Type1  \n",
       "2229      Medium               Tier 3  Supermarket Type3  \n",
       "2537       Small               Tier 2  Supermarket Type1  \n",
       "3528        High               Tier 3  Supermarket Type1  "
      ]
     },
     "execution_count": 100,
     "metadata": {},
     "output_type": "execute_result"
    }
   ],
   "source": [
    "cat_feats = X_train.select_dtypes(include=['object'])\n",
    "cat_feats.head()"
   ]
  },
  {
   "cell_type": "code",
   "execution_count": 101,
   "id": "b8ec2313",
   "metadata": {},
   "outputs": [
    {
     "data": {
      "text/html": [
       "<style>#sk-container-id-1 {color: black;}#sk-container-id-1 pre{padding: 0;}#sk-container-id-1 div.sk-toggleable {background-color: white;}#sk-container-id-1 label.sk-toggleable__label {cursor: pointer;display: block;width: 100%;margin-bottom: 0;padding: 0.3em;box-sizing: border-box;text-align: center;}#sk-container-id-1 label.sk-toggleable__label-arrow:before {content: \"▸\";float: left;margin-right: 0.25em;color: #696969;}#sk-container-id-1 label.sk-toggleable__label-arrow:hover:before {color: black;}#sk-container-id-1 div.sk-estimator:hover label.sk-toggleable__label-arrow:before {color: black;}#sk-container-id-1 div.sk-toggleable__content {max-height: 0;max-width: 0;overflow: hidden;text-align: left;background-color: #f0f8ff;}#sk-container-id-1 div.sk-toggleable__content pre {margin: 0.2em;color: black;border-radius: 0.25em;background-color: #f0f8ff;}#sk-container-id-1 input.sk-toggleable__control:checked~div.sk-toggleable__content {max-height: 200px;max-width: 100%;overflow: auto;}#sk-container-id-1 input.sk-toggleable__control:checked~label.sk-toggleable__label-arrow:before {content: \"▾\";}#sk-container-id-1 div.sk-estimator input.sk-toggleable__control:checked~label.sk-toggleable__label {background-color: #d4ebff;}#sk-container-id-1 div.sk-label input.sk-toggleable__control:checked~label.sk-toggleable__label {background-color: #d4ebff;}#sk-container-id-1 input.sk-hidden--visually {border: 0;clip: rect(1px 1px 1px 1px);clip: rect(1px, 1px, 1px, 1px);height: 1px;margin: -1px;overflow: hidden;padding: 0;position: absolute;width: 1px;}#sk-container-id-1 div.sk-estimator {font-family: monospace;background-color: #f0f8ff;border: 1px dotted black;border-radius: 0.25em;box-sizing: border-box;margin-bottom: 0.5em;}#sk-container-id-1 div.sk-estimator:hover {background-color: #d4ebff;}#sk-container-id-1 div.sk-parallel-item::after {content: \"\";width: 100%;border-bottom: 1px solid gray;flex-grow: 1;}#sk-container-id-1 div.sk-label:hover label.sk-toggleable__label {background-color: #d4ebff;}#sk-container-id-1 div.sk-serial::before {content: \"\";position: absolute;border-left: 1px solid gray;box-sizing: border-box;top: 0;bottom: 0;left: 50%;z-index: 0;}#sk-container-id-1 div.sk-serial {display: flex;flex-direction: column;align-items: center;background-color: white;padding-right: 0.2em;padding-left: 0.2em;position: relative;}#sk-container-id-1 div.sk-item {position: relative;z-index: 1;}#sk-container-id-1 div.sk-parallel {display: flex;align-items: stretch;justify-content: center;background-color: white;position: relative;}#sk-container-id-1 div.sk-item::before, #sk-container-id-1 div.sk-parallel-item::before {content: \"\";position: absolute;border-left: 1px solid gray;box-sizing: border-box;top: 0;bottom: 0;left: 50%;z-index: -1;}#sk-container-id-1 div.sk-parallel-item {display: flex;flex-direction: column;z-index: 1;position: relative;background-color: white;}#sk-container-id-1 div.sk-parallel-item:first-child::after {align-self: flex-end;width: 50%;}#sk-container-id-1 div.sk-parallel-item:last-child::after {align-self: flex-start;width: 50%;}#sk-container-id-1 div.sk-parallel-item:only-child::after {width: 0;}#sk-container-id-1 div.sk-dashed-wrapped {border: 1px dashed gray;margin: 0 0.4em 0.5em 0.4em;box-sizing: border-box;padding-bottom: 0.4em;background-color: white;}#sk-container-id-1 div.sk-label label {font-family: monospace;font-weight: bold;display: inline-block;line-height: 1.2em;}#sk-container-id-1 div.sk-label-container {text-align: center;}#sk-container-id-1 div.sk-container {/* jupyter's `normalize.less` sets `[hidden] { display: none; }` but bootstrap.min.css set `[hidden] { display: none !important; }` so we also need the `!important` here to be able to override the default hidden behavior on the sphinx rendered scikit-learn.org. See: https://github.com/scikit-learn/scikit-learn/issues/21755 */display: inline-block !important;position: relative;}#sk-container-id-1 div.sk-text-repr-fallback {display: none;}</style><div id=\"sk-container-id-1\" class=\"sk-top-container\"><div class=\"sk-text-repr-fallback\"><pre>OneHotEncoder(handle_unknown=&#x27;ignore&#x27;)</pre><b>In a Jupyter environment, please rerun this cell to show the HTML representation or trust the notebook. <br />On GitHub, the HTML representation is unable to render, please try loading this page with nbviewer.org.</b></div><div class=\"sk-container\" hidden><div class=\"sk-item\"><div class=\"sk-estimator sk-toggleable\"><input class=\"sk-toggleable__control sk-hidden--visually\" id=\"sk-estimator-id-1\" type=\"checkbox\" checked><label for=\"sk-estimator-id-1\" class=\"sk-toggleable__label sk-toggleable__label-arrow\">OneHotEncoder</label><div class=\"sk-toggleable__content\"><pre>OneHotEncoder(handle_unknown=&#x27;ignore&#x27;)</pre></div></div></div></div></div>"
      ],
      "text/plain": [
       "OneHotEncoder(handle_unknown='ignore')"
      ]
     },
     "execution_count": 101,
     "metadata": {},
     "output_type": "execute_result"
    }
   ],
   "source": [
    "from sklearn.preprocessing import OneHotEncoder\n",
    "\n",
    "ohe = OneHotEncoder(handle_unknown = 'ignore')\n",
    "ohe.fit(cat_feats)"
   ]
  },
  {
   "cell_type": "code",
   "execution_count": 103,
   "id": "1d946329",
   "metadata": {},
   "outputs": [
    {
     "data": {
      "text/plain": [
       "array(['Item_Identifier_DRA12', 'Item_Identifier_DRA24',\n",
       "       'Item_Identifier_DRA59', ..., 'Outlet_Type_Supermarket Type1',\n",
       "       'Outlet_Type_Supermarket Type2', 'Outlet_Type_Supermarket Type3'],\n",
       "      dtype=object)"
      ]
     },
     "execution_count": 103,
     "metadata": {},
     "output_type": "execute_result"
    }
   ],
   "source": [
    "ohe_feature_names = ohe.get_feature_names_out(input_features=cat_feats.columns)\n",
    "ohe_feature_names"
   ]
  },
  {
   "cell_type": "code",
   "execution_count": 104,
   "id": "968d8557",
   "metadata": {},
   "outputs": [
    {
     "data": {
      "text/html": [
       "<div>\n",
       "<style scoped>\n",
       "    .dataframe tbody tr th:only-of-type {\n",
       "        vertical-align: middle;\n",
       "    }\n",
       "\n",
       "    .dataframe tbody tr th {\n",
       "        vertical-align: top;\n",
       "    }\n",
       "\n",
       "    .dataframe thead th {\n",
       "        text-align: right;\n",
       "    }\n",
       "</style>\n",
       "<table border=\"1\" class=\"dataframe\">\n",
       "  <thead>\n",
       "    <tr style=\"text-align: right;\">\n",
       "      <th></th>\n",
       "      <th>Item_Weight</th>\n",
       "      <th>Item_Visibility</th>\n",
       "      <th>Item_MRP</th>\n",
       "      <th>Outlet_Establishment_Year</th>\n",
       "    </tr>\n",
       "  </thead>\n",
       "  <tbody>\n",
       "    <tr>\n",
       "      <th>0</th>\n",
       "      <td>7.72</td>\n",
       "      <td>0.147904</td>\n",
       "      <td>116.6466</td>\n",
       "      <td>1998</td>\n",
       "    </tr>\n",
       "    <tr>\n",
       "      <th>1</th>\n",
       "      <td>19.75</td>\n",
       "      <td>0.014301</td>\n",
       "      <td>103.0332</td>\n",
       "      <td>1997</td>\n",
       "    </tr>\n",
       "    <tr>\n",
       "      <th>2</th>\n",
       "      <td>8.60</td>\n",
       "      <td>0.054221</td>\n",
       "      <td>129.1310</td>\n",
       "      <td>1985</td>\n",
       "    </tr>\n",
       "    <tr>\n",
       "      <th>3</th>\n",
       "      <td>19.35</td>\n",
       "      <td>0.118342</td>\n",
       "      <td>222.6088</td>\n",
       "      <td>2002</td>\n",
       "    </tr>\n",
       "    <tr>\n",
       "      <th>4</th>\n",
       "      <td>18.35</td>\n",
       "      <td>0.092150</td>\n",
       "      <td>184.8266</td>\n",
       "      <td>1987</td>\n",
       "    </tr>\n",
       "  </tbody>\n",
       "</table>\n",
       "</div>"
      ],
      "text/plain": [
       "   Item_Weight  Item_Visibility  Item_MRP  Outlet_Establishment_Year\n",
       "0         7.72         0.147904  116.6466                       1998\n",
       "1        19.75         0.014301  103.0332                       1997\n",
       "2         8.60         0.054221  129.1310                       1985\n",
       "3        19.35         0.118342  222.6088                       2002\n",
       "4        18.35         0.092150  184.8266                       1987"
      ]
     },
     "execution_count": 104,
     "metadata": {},
     "output_type": "execute_result"
    }
   ],
   "source": [
    "num_feats_train = X_train.select_dtypes(exclude=['object']).reset_index(drop=True)\n",
    "num_feats_train.head()"
   ]
  },
  {
   "cell_type": "code",
   "execution_count": 105,
   "id": "51493603",
   "metadata": {},
   "outputs": [
    {
     "data": {
      "text/html": [
       "<div>\n",
       "<style scoped>\n",
       "    .dataframe tbody tr th:only-of-type {\n",
       "        vertical-align: middle;\n",
       "    }\n",
       "\n",
       "    .dataframe tbody tr th {\n",
       "        vertical-align: top;\n",
       "    }\n",
       "\n",
       "    .dataframe thead th {\n",
       "        text-align: right;\n",
       "    }\n",
       "</style>\n",
       "<table border=\"1\" class=\"dataframe\">\n",
       "  <thead>\n",
       "    <tr style=\"text-align: right;\">\n",
       "      <th></th>\n",
       "      <th>Item_Identifier_DRA12</th>\n",
       "      <th>Item_Identifier_DRA24</th>\n",
       "      <th>Item_Identifier_DRA59</th>\n",
       "      <th>Item_Identifier_DRB01</th>\n",
       "      <th>Item_Identifier_DRB13</th>\n",
       "      <th>Item_Identifier_DRB24</th>\n",
       "      <th>Item_Identifier_DRB25</th>\n",
       "      <th>Item_Identifier_DRB48</th>\n",
       "      <th>Item_Identifier_DRC01</th>\n",
       "      <th>Item_Identifier_DRC12</th>\n",
       "      <th>...</th>\n",
       "      <th>Outlet_Size_High</th>\n",
       "      <th>Outlet_Size_Medium</th>\n",
       "      <th>Outlet_Size_Small</th>\n",
       "      <th>Outlet_Location_Type_Tier 1</th>\n",
       "      <th>Outlet_Location_Type_Tier 2</th>\n",
       "      <th>Outlet_Location_Type_Tier 3</th>\n",
       "      <th>Outlet_Type_Grocery Store</th>\n",
       "      <th>Outlet_Type_Supermarket Type1</th>\n",
       "      <th>Outlet_Type_Supermarket Type2</th>\n",
       "      <th>Outlet_Type_Supermarket Type3</th>\n",
       "    </tr>\n",
       "  </thead>\n",
       "  <tbody>\n",
       "    <tr>\n",
       "      <th>0</th>\n",
       "      <td>0.0</td>\n",
       "      <td>0.0</td>\n",
       "      <td>0.0</td>\n",
       "      <td>0.0</td>\n",
       "      <td>0.0</td>\n",
       "      <td>0.0</td>\n",
       "      <td>0.0</td>\n",
       "      <td>0.0</td>\n",
       "      <td>0.0</td>\n",
       "      <td>0.0</td>\n",
       "      <td>...</td>\n",
       "      <td>0.0</td>\n",
       "      <td>0.0</td>\n",
       "      <td>1.0</td>\n",
       "      <td>0.0</td>\n",
       "      <td>0.0</td>\n",
       "      <td>1.0</td>\n",
       "      <td>1.0</td>\n",
       "      <td>0.0</td>\n",
       "      <td>0.0</td>\n",
       "      <td>0.0</td>\n",
       "    </tr>\n",
       "    <tr>\n",
       "      <th>1</th>\n",
       "      <td>0.0</td>\n",
       "      <td>0.0</td>\n",
       "      <td>0.0</td>\n",
       "      <td>0.0</td>\n",
       "      <td>0.0</td>\n",
       "      <td>0.0</td>\n",
       "      <td>0.0</td>\n",
       "      <td>0.0</td>\n",
       "      <td>0.0</td>\n",
       "      <td>0.0</td>\n",
       "      <td>...</td>\n",
       "      <td>0.0</td>\n",
       "      <td>0.0</td>\n",
       "      <td>1.0</td>\n",
       "      <td>1.0</td>\n",
       "      <td>0.0</td>\n",
       "      <td>0.0</td>\n",
       "      <td>0.0</td>\n",
       "      <td>1.0</td>\n",
       "      <td>0.0</td>\n",
       "      <td>0.0</td>\n",
       "    </tr>\n",
       "    <tr>\n",
       "      <th>2</th>\n",
       "      <td>0.0</td>\n",
       "      <td>0.0</td>\n",
       "      <td>0.0</td>\n",
       "      <td>0.0</td>\n",
       "      <td>0.0</td>\n",
       "      <td>0.0</td>\n",
       "      <td>0.0</td>\n",
       "      <td>0.0</td>\n",
       "      <td>0.0</td>\n",
       "      <td>0.0</td>\n",
       "      <td>...</td>\n",
       "      <td>0.0</td>\n",
       "      <td>1.0</td>\n",
       "      <td>0.0</td>\n",
       "      <td>0.0</td>\n",
       "      <td>0.0</td>\n",
       "      <td>1.0</td>\n",
       "      <td>0.0</td>\n",
       "      <td>0.0</td>\n",
       "      <td>0.0</td>\n",
       "      <td>1.0</td>\n",
       "    </tr>\n",
       "    <tr>\n",
       "      <th>3</th>\n",
       "      <td>0.0</td>\n",
       "      <td>0.0</td>\n",
       "      <td>0.0</td>\n",
       "      <td>0.0</td>\n",
       "      <td>0.0</td>\n",
       "      <td>0.0</td>\n",
       "      <td>0.0</td>\n",
       "      <td>0.0</td>\n",
       "      <td>0.0</td>\n",
       "      <td>0.0</td>\n",
       "      <td>...</td>\n",
       "      <td>0.0</td>\n",
       "      <td>0.0</td>\n",
       "      <td>1.0</td>\n",
       "      <td>0.0</td>\n",
       "      <td>1.0</td>\n",
       "      <td>0.0</td>\n",
       "      <td>0.0</td>\n",
       "      <td>1.0</td>\n",
       "      <td>0.0</td>\n",
       "      <td>0.0</td>\n",
       "    </tr>\n",
       "    <tr>\n",
       "      <th>4</th>\n",
       "      <td>0.0</td>\n",
       "      <td>0.0</td>\n",
       "      <td>0.0</td>\n",
       "      <td>0.0</td>\n",
       "      <td>0.0</td>\n",
       "      <td>0.0</td>\n",
       "      <td>0.0</td>\n",
       "      <td>0.0</td>\n",
       "      <td>0.0</td>\n",
       "      <td>0.0</td>\n",
       "      <td>...</td>\n",
       "      <td>1.0</td>\n",
       "      <td>0.0</td>\n",
       "      <td>0.0</td>\n",
       "      <td>0.0</td>\n",
       "      <td>0.0</td>\n",
       "      <td>1.0</td>\n",
       "      <td>0.0</td>\n",
       "      <td>1.0</td>\n",
       "      <td>0.0</td>\n",
       "      <td>0.0</td>\n",
       "    </tr>\n",
       "  </tbody>\n",
       "</table>\n",
       "<p>5 rows × 1568 columns</p>\n",
       "</div>"
      ],
      "text/plain": [
       "   Item_Identifier_DRA12  Item_Identifier_DRA24  Item_Identifier_DRA59  \\\n",
       "0                    0.0                    0.0                    0.0   \n",
       "1                    0.0                    0.0                    0.0   \n",
       "2                    0.0                    0.0                    0.0   \n",
       "3                    0.0                    0.0                    0.0   \n",
       "4                    0.0                    0.0                    0.0   \n",
       "\n",
       "   Item_Identifier_DRB01  Item_Identifier_DRB13  Item_Identifier_DRB24  \\\n",
       "0                    0.0                    0.0                    0.0   \n",
       "1                    0.0                    0.0                    0.0   \n",
       "2                    0.0                    0.0                    0.0   \n",
       "3                    0.0                    0.0                    0.0   \n",
       "4                    0.0                    0.0                    0.0   \n",
       "\n",
       "   Item_Identifier_DRB25  Item_Identifier_DRB48  Item_Identifier_DRC01  \\\n",
       "0                    0.0                    0.0                    0.0   \n",
       "1                    0.0                    0.0                    0.0   \n",
       "2                    0.0                    0.0                    0.0   \n",
       "3                    0.0                    0.0                    0.0   \n",
       "4                    0.0                    0.0                    0.0   \n",
       "\n",
       "   Item_Identifier_DRC12  ...  Outlet_Size_High  Outlet_Size_Medium  \\\n",
       "0                    0.0  ...               0.0                 0.0   \n",
       "1                    0.0  ...               0.0                 0.0   \n",
       "2                    0.0  ...               0.0                 1.0   \n",
       "3                    0.0  ...               0.0                 0.0   \n",
       "4                    0.0  ...               1.0                 0.0   \n",
       "\n",
       "   Outlet_Size_Small  Outlet_Location_Type_Tier 1  \\\n",
       "0                1.0                          0.0   \n",
       "1                1.0                          1.0   \n",
       "2                0.0                          0.0   \n",
       "3                1.0                          0.0   \n",
       "4                0.0                          0.0   \n",
       "\n",
       "   Outlet_Location_Type_Tier 2  Outlet_Location_Type_Tier 3  \\\n",
       "0                          0.0                          1.0   \n",
       "1                          0.0                          0.0   \n",
       "2                          0.0                          1.0   \n",
       "3                          1.0                          0.0   \n",
       "4                          0.0                          1.0   \n",
       "\n",
       "   Outlet_Type_Grocery Store  Outlet_Type_Supermarket Type1  \\\n",
       "0                        1.0                            0.0   \n",
       "1                        0.0                            1.0   \n",
       "2                        0.0                            0.0   \n",
       "3                        0.0                            1.0   \n",
       "4                        0.0                            1.0   \n",
       "\n",
       "   Outlet_Type_Supermarket Type2  Outlet_Type_Supermarket Type3  \n",
       "0                            0.0                            0.0  \n",
       "1                            0.0                            0.0  \n",
       "2                            0.0                            1.0  \n",
       "3                            0.0                            0.0  \n",
       "4                            0.0                            0.0  \n",
       "\n",
       "[5 rows x 1568 columns]"
      ]
     },
     "execution_count": 105,
     "metadata": {},
     "output_type": "execute_result"
    }
   ],
   "source": [
    "cat_feats_train = X_train.select_dtypes(include=['object'])\n",
    "X_train_cat_ohe = pd.DataFrame(ohe.transform(cat_feats_train).toarray(), columns=ohe_feature_names)\n",
    "X_train_cat_ohe.head()"
   ]
  },
  {
   "cell_type": "code",
   "execution_count": 106,
   "id": "6c3033b0",
   "metadata": {},
   "outputs": [
    {
     "data": {
      "text/html": [
       "<div>\n",
       "<style scoped>\n",
       "    .dataframe tbody tr th:only-of-type {\n",
       "        vertical-align: middle;\n",
       "    }\n",
       "\n",
       "    .dataframe tbody tr th {\n",
       "        vertical-align: top;\n",
       "    }\n",
       "\n",
       "    .dataframe thead th {\n",
       "        text-align: right;\n",
       "    }\n",
       "</style>\n",
       "<table border=\"1\" class=\"dataframe\">\n",
       "  <thead>\n",
       "    <tr style=\"text-align: right;\">\n",
       "      <th></th>\n",
       "      <th>Item_Weight</th>\n",
       "      <th>Item_Visibility</th>\n",
       "      <th>Item_MRP</th>\n",
       "      <th>Outlet_Establishment_Year</th>\n",
       "      <th>Item_Identifier_DRA12</th>\n",
       "      <th>Item_Identifier_DRA24</th>\n",
       "      <th>Item_Identifier_DRA59</th>\n",
       "      <th>Item_Identifier_DRB01</th>\n",
       "      <th>Item_Identifier_DRB13</th>\n",
       "      <th>Item_Identifier_DRB24</th>\n",
       "      <th>...</th>\n",
       "      <th>Outlet_Size_High</th>\n",
       "      <th>Outlet_Size_Medium</th>\n",
       "      <th>Outlet_Size_Small</th>\n",
       "      <th>Outlet_Location_Type_Tier 1</th>\n",
       "      <th>Outlet_Location_Type_Tier 2</th>\n",
       "      <th>Outlet_Location_Type_Tier 3</th>\n",
       "      <th>Outlet_Type_Grocery Store</th>\n",
       "      <th>Outlet_Type_Supermarket Type1</th>\n",
       "      <th>Outlet_Type_Supermarket Type2</th>\n",
       "      <th>Outlet_Type_Supermarket Type3</th>\n",
       "    </tr>\n",
       "  </thead>\n",
       "  <tbody>\n",
       "    <tr>\n",
       "      <th>0</th>\n",
       "      <td>7.72</td>\n",
       "      <td>0.147904</td>\n",
       "      <td>116.6466</td>\n",
       "      <td>1998</td>\n",
       "      <td>0.0</td>\n",
       "      <td>0.0</td>\n",
       "      <td>0.0</td>\n",
       "      <td>0.0</td>\n",
       "      <td>0.0</td>\n",
       "      <td>0.0</td>\n",
       "      <td>...</td>\n",
       "      <td>0.0</td>\n",
       "      <td>0.0</td>\n",
       "      <td>1.0</td>\n",
       "      <td>0.0</td>\n",
       "      <td>0.0</td>\n",
       "      <td>1.0</td>\n",
       "      <td>1.0</td>\n",
       "      <td>0.0</td>\n",
       "      <td>0.0</td>\n",
       "      <td>0.0</td>\n",
       "    </tr>\n",
       "    <tr>\n",
       "      <th>1</th>\n",
       "      <td>19.75</td>\n",
       "      <td>0.014301</td>\n",
       "      <td>103.0332</td>\n",
       "      <td>1997</td>\n",
       "      <td>0.0</td>\n",
       "      <td>0.0</td>\n",
       "      <td>0.0</td>\n",
       "      <td>0.0</td>\n",
       "      <td>0.0</td>\n",
       "      <td>0.0</td>\n",
       "      <td>...</td>\n",
       "      <td>0.0</td>\n",
       "      <td>0.0</td>\n",
       "      <td>1.0</td>\n",
       "      <td>1.0</td>\n",
       "      <td>0.0</td>\n",
       "      <td>0.0</td>\n",
       "      <td>0.0</td>\n",
       "      <td>1.0</td>\n",
       "      <td>0.0</td>\n",
       "      <td>0.0</td>\n",
       "    </tr>\n",
       "    <tr>\n",
       "      <th>2</th>\n",
       "      <td>8.60</td>\n",
       "      <td>0.054221</td>\n",
       "      <td>129.1310</td>\n",
       "      <td>1985</td>\n",
       "      <td>0.0</td>\n",
       "      <td>0.0</td>\n",
       "      <td>0.0</td>\n",
       "      <td>0.0</td>\n",
       "      <td>0.0</td>\n",
       "      <td>0.0</td>\n",
       "      <td>...</td>\n",
       "      <td>0.0</td>\n",
       "      <td>1.0</td>\n",
       "      <td>0.0</td>\n",
       "      <td>0.0</td>\n",
       "      <td>0.0</td>\n",
       "      <td>1.0</td>\n",
       "      <td>0.0</td>\n",
       "      <td>0.0</td>\n",
       "      <td>0.0</td>\n",
       "      <td>1.0</td>\n",
       "    </tr>\n",
       "    <tr>\n",
       "      <th>3</th>\n",
       "      <td>19.35</td>\n",
       "      <td>0.118342</td>\n",
       "      <td>222.6088</td>\n",
       "      <td>2002</td>\n",
       "      <td>0.0</td>\n",
       "      <td>0.0</td>\n",
       "      <td>0.0</td>\n",
       "      <td>0.0</td>\n",
       "      <td>0.0</td>\n",
       "      <td>0.0</td>\n",
       "      <td>...</td>\n",
       "      <td>0.0</td>\n",
       "      <td>0.0</td>\n",
       "      <td>1.0</td>\n",
       "      <td>0.0</td>\n",
       "      <td>1.0</td>\n",
       "      <td>0.0</td>\n",
       "      <td>0.0</td>\n",
       "      <td>1.0</td>\n",
       "      <td>0.0</td>\n",
       "      <td>0.0</td>\n",
       "    </tr>\n",
       "    <tr>\n",
       "      <th>4</th>\n",
       "      <td>18.35</td>\n",
       "      <td>0.092150</td>\n",
       "      <td>184.8266</td>\n",
       "      <td>1987</td>\n",
       "      <td>0.0</td>\n",
       "      <td>0.0</td>\n",
       "      <td>0.0</td>\n",
       "      <td>0.0</td>\n",
       "      <td>0.0</td>\n",
       "      <td>0.0</td>\n",
       "      <td>...</td>\n",
       "      <td>1.0</td>\n",
       "      <td>0.0</td>\n",
       "      <td>0.0</td>\n",
       "      <td>0.0</td>\n",
       "      <td>0.0</td>\n",
       "      <td>1.0</td>\n",
       "      <td>0.0</td>\n",
       "      <td>1.0</td>\n",
       "      <td>0.0</td>\n",
       "      <td>0.0</td>\n",
       "    </tr>\n",
       "  </tbody>\n",
       "</table>\n",
       "<p>5 rows × 1572 columns</p>\n",
       "</div>"
      ],
      "text/plain": [
       "   Item_Weight  Item_Visibility  Item_MRP  Outlet_Establishment_Year  \\\n",
       "0         7.72         0.147904  116.6466                       1998   \n",
       "1        19.75         0.014301  103.0332                       1997   \n",
       "2         8.60         0.054221  129.1310                       1985   \n",
       "3        19.35         0.118342  222.6088                       2002   \n",
       "4        18.35         0.092150  184.8266                       1987   \n",
       "\n",
       "   Item_Identifier_DRA12  Item_Identifier_DRA24  Item_Identifier_DRA59  \\\n",
       "0                    0.0                    0.0                    0.0   \n",
       "1                    0.0                    0.0                    0.0   \n",
       "2                    0.0                    0.0                    0.0   \n",
       "3                    0.0                    0.0                    0.0   \n",
       "4                    0.0                    0.0                    0.0   \n",
       "\n",
       "   Item_Identifier_DRB01  Item_Identifier_DRB13  Item_Identifier_DRB24  ...  \\\n",
       "0                    0.0                    0.0                    0.0  ...   \n",
       "1                    0.0                    0.0                    0.0  ...   \n",
       "2                    0.0                    0.0                    0.0  ...   \n",
       "3                    0.0                    0.0                    0.0  ...   \n",
       "4                    0.0                    0.0                    0.0  ...   \n",
       "\n",
       "   Outlet_Size_High  Outlet_Size_Medium  Outlet_Size_Small  \\\n",
       "0               0.0                 0.0                1.0   \n",
       "1               0.0                 0.0                1.0   \n",
       "2               0.0                 1.0                0.0   \n",
       "3               0.0                 0.0                1.0   \n",
       "4               1.0                 0.0                0.0   \n",
       "\n",
       "   Outlet_Location_Type_Tier 1  Outlet_Location_Type_Tier 2  \\\n",
       "0                          0.0                          0.0   \n",
       "1                          1.0                          0.0   \n",
       "2                          0.0                          0.0   \n",
       "3                          0.0                          1.0   \n",
       "4                          0.0                          0.0   \n",
       "\n",
       "   Outlet_Location_Type_Tier 3  Outlet_Type_Grocery Store  \\\n",
       "0                          1.0                        1.0   \n",
       "1                          0.0                        0.0   \n",
       "2                          1.0                        0.0   \n",
       "3                          0.0                        0.0   \n",
       "4                          1.0                        0.0   \n",
       "\n",
       "   Outlet_Type_Supermarket Type1  Outlet_Type_Supermarket Type2  \\\n",
       "0                            0.0                            0.0   \n",
       "1                            1.0                            0.0   \n",
       "2                            0.0                            0.0   \n",
       "3                            1.0                            0.0   \n",
       "4                            1.0                            0.0   \n",
       "\n",
       "   Outlet_Type_Supermarket Type3  \n",
       "0                            0.0  \n",
       "1                            0.0  \n",
       "2                            1.0  \n",
       "3                            0.0  \n",
       "4                            0.0  \n",
       "\n",
       "[5 rows x 1572 columns]"
      ]
     },
     "execution_count": 106,
     "metadata": {},
     "output_type": "execute_result"
    }
   ],
   "source": [
    "X_train_final = pd.concat([num_feats_train, X_train_cat_ohe], axis=1)\n",
    "X_train_final.head()"
   ]
  },
  {
   "cell_type": "code",
   "execution_count": 107,
   "id": "2a2a6759",
   "metadata": {},
   "outputs": [
    {
     "data": {
      "text/plain": [
       "array(['Item_Weight', 'Item_Visibility', 'Item_MRP', ...,\n",
       "       'Outlet_Type_Supermarket Type1', 'Outlet_Type_Supermarket Type2',\n",
       "       'Outlet_Type_Supermarket Type3'], dtype=object)"
      ]
     },
     "execution_count": 107,
     "metadata": {},
     "output_type": "execute_result"
    }
   ],
   "source": [
    "final_columns = X_train_final.columns.values\n",
    "final_columns"
   ]
  },
  {
   "cell_type": "code",
   "execution_count": 109,
   "id": "8c935ff2",
   "metadata": {},
   "outputs": [
    {
     "data": {
      "text/html": [
       "<div>\n",
       "<style scoped>\n",
       "    .dataframe tbody tr th:only-of-type {\n",
       "        vertical-align: middle;\n",
       "    }\n",
       "\n",
       "    .dataframe tbody tr th {\n",
       "        vertical-align: top;\n",
       "    }\n",
       "\n",
       "    .dataframe thead th {\n",
       "        text-align: right;\n",
       "    }\n",
       "</style>\n",
       "<table border=\"1\" class=\"dataframe\">\n",
       "  <thead>\n",
       "    <tr style=\"text-align: right;\">\n",
       "      <th></th>\n",
       "      <th>Item_Weight</th>\n",
       "      <th>Item_Visibility</th>\n",
       "      <th>Item_MRP</th>\n",
       "      <th>Outlet_Establishment_Year</th>\n",
       "      <th>Item_Identifier_DRA12</th>\n",
       "      <th>Item_Identifier_DRA24</th>\n",
       "      <th>Item_Identifier_DRA59</th>\n",
       "      <th>Item_Identifier_DRB01</th>\n",
       "      <th>Item_Identifier_DRB13</th>\n",
       "      <th>Item_Identifier_DRB24</th>\n",
       "      <th>...</th>\n",
       "      <th>Outlet_Size_High</th>\n",
       "      <th>Outlet_Size_Medium</th>\n",
       "      <th>Outlet_Size_Small</th>\n",
       "      <th>Outlet_Location_Type_Tier 1</th>\n",
       "      <th>Outlet_Location_Type_Tier 2</th>\n",
       "      <th>Outlet_Location_Type_Tier 3</th>\n",
       "      <th>Outlet_Type_Grocery Store</th>\n",
       "      <th>Outlet_Type_Supermarket Type1</th>\n",
       "      <th>Outlet_Type_Supermarket Type2</th>\n",
       "      <th>Outlet_Type_Supermarket Type3</th>\n",
       "    </tr>\n",
       "  </thead>\n",
       "  <tbody>\n",
       "    <tr>\n",
       "      <th>0</th>\n",
       "      <td>14.300</td>\n",
       "      <td>0.026300</td>\n",
       "      <td>79.4302</td>\n",
       "      <td>1987</td>\n",
       "      <td>0.0</td>\n",
       "      <td>0.0</td>\n",
       "      <td>0.0</td>\n",
       "      <td>0.0</td>\n",
       "      <td>0.0</td>\n",
       "      <td>0.0</td>\n",
       "      <td>...</td>\n",
       "      <td>1.0</td>\n",
       "      <td>0.0</td>\n",
       "      <td>0.0</td>\n",
       "      <td>0.0</td>\n",
       "      <td>0.0</td>\n",
       "      <td>1.0</td>\n",
       "      <td>0.0</td>\n",
       "      <td>1.0</td>\n",
       "      <td>0.0</td>\n",
       "      <td>0.0</td>\n",
       "    </tr>\n",
       "    <tr>\n",
       "      <th>1</th>\n",
       "      <td>7.930</td>\n",
       "      <td>0.071136</td>\n",
       "      <td>42.7086</td>\n",
       "      <td>1997</td>\n",
       "      <td>0.0</td>\n",
       "      <td>0.0</td>\n",
       "      <td>0.0</td>\n",
       "      <td>0.0</td>\n",
       "      <td>0.0</td>\n",
       "      <td>0.0</td>\n",
       "      <td>...</td>\n",
       "      <td>0.0</td>\n",
       "      <td>0.0</td>\n",
       "      <td>1.0</td>\n",
       "      <td>1.0</td>\n",
       "      <td>0.0</td>\n",
       "      <td>0.0</td>\n",
       "      <td>0.0</td>\n",
       "      <td>1.0</td>\n",
       "      <td>0.0</td>\n",
       "      <td>0.0</td>\n",
       "    </tr>\n",
       "    <tr>\n",
       "      <th>2</th>\n",
       "      <td>14.500</td>\n",
       "      <td>0.041313</td>\n",
       "      <td>42.0454</td>\n",
       "      <td>1999</td>\n",
       "      <td>0.0</td>\n",
       "      <td>0.0</td>\n",
       "      <td>0.0</td>\n",
       "      <td>0.0</td>\n",
       "      <td>0.0</td>\n",
       "      <td>0.0</td>\n",
       "      <td>...</td>\n",
       "      <td>0.0</td>\n",
       "      <td>1.0</td>\n",
       "      <td>0.0</td>\n",
       "      <td>1.0</td>\n",
       "      <td>0.0</td>\n",
       "      <td>0.0</td>\n",
       "      <td>0.0</td>\n",
       "      <td>1.0</td>\n",
       "      <td>0.0</td>\n",
       "      <td>0.0</td>\n",
       "    </tr>\n",
       "    <tr>\n",
       "      <th>3</th>\n",
       "      <td>13.000</td>\n",
       "      <td>0.044767</td>\n",
       "      <td>173.7054</td>\n",
       "      <td>1985</td>\n",
       "      <td>0.0</td>\n",
       "      <td>0.0</td>\n",
       "      <td>0.0</td>\n",
       "      <td>0.0</td>\n",
       "      <td>0.0</td>\n",
       "      <td>0.0</td>\n",
       "      <td>...</td>\n",
       "      <td>0.0</td>\n",
       "      <td>1.0</td>\n",
       "      <td>0.0</td>\n",
       "      <td>0.0</td>\n",
       "      <td>0.0</td>\n",
       "      <td>1.0</td>\n",
       "      <td>0.0</td>\n",
       "      <td>0.0</td>\n",
       "      <td>0.0</td>\n",
       "      <td>1.0</td>\n",
       "    </tr>\n",
       "    <tr>\n",
       "      <th>4</th>\n",
       "      <td>10.195</td>\n",
       "      <td>0.012456</td>\n",
       "      <td>197.5110</td>\n",
       "      <td>2004</td>\n",
       "      <td>0.0</td>\n",
       "      <td>0.0</td>\n",
       "      <td>0.0</td>\n",
       "      <td>0.0</td>\n",
       "      <td>0.0</td>\n",
       "      <td>0.0</td>\n",
       "      <td>...</td>\n",
       "      <td>0.0</td>\n",
       "      <td>0.0</td>\n",
       "      <td>1.0</td>\n",
       "      <td>0.0</td>\n",
       "      <td>1.0</td>\n",
       "      <td>0.0</td>\n",
       "      <td>0.0</td>\n",
       "      <td>1.0</td>\n",
       "      <td>0.0</td>\n",
       "      <td>0.0</td>\n",
       "    </tr>\n",
       "  </tbody>\n",
       "</table>\n",
       "<p>5 rows × 1572 columns</p>\n",
       "</div>"
      ],
      "text/plain": [
       "   Item_Weight  Item_Visibility  Item_MRP  Outlet_Establishment_Year  \\\n",
       "0       14.300         0.026300   79.4302                       1987   \n",
       "1        7.930         0.071136   42.7086                       1997   \n",
       "2       14.500         0.041313   42.0454                       1999   \n",
       "3       13.000         0.044767  173.7054                       1985   \n",
       "4       10.195         0.012456  197.5110                       2004   \n",
       "\n",
       "   Item_Identifier_DRA12  Item_Identifier_DRA24  Item_Identifier_DRA59  \\\n",
       "0                    0.0                    0.0                    0.0   \n",
       "1                    0.0                    0.0                    0.0   \n",
       "2                    0.0                    0.0                    0.0   \n",
       "3                    0.0                    0.0                    0.0   \n",
       "4                    0.0                    0.0                    0.0   \n",
       "\n",
       "   Item_Identifier_DRB01  Item_Identifier_DRB13  Item_Identifier_DRB24  ...  \\\n",
       "0                    0.0                    0.0                    0.0  ...   \n",
       "1                    0.0                    0.0                    0.0  ...   \n",
       "2                    0.0                    0.0                    0.0  ...   \n",
       "3                    0.0                    0.0                    0.0  ...   \n",
       "4                    0.0                    0.0                    0.0  ...   \n",
       "\n",
       "   Outlet_Size_High  Outlet_Size_Medium  Outlet_Size_Small  \\\n",
       "0               1.0                 0.0                0.0   \n",
       "1               0.0                 0.0                1.0   \n",
       "2               0.0                 1.0                0.0   \n",
       "3               0.0                 1.0                0.0   \n",
       "4               0.0                 0.0                1.0   \n",
       "\n",
       "   Outlet_Location_Type_Tier 1  Outlet_Location_Type_Tier 2  \\\n",
       "0                          0.0                          0.0   \n",
       "1                          1.0                          0.0   \n",
       "2                          1.0                          0.0   \n",
       "3                          0.0                          0.0   \n",
       "4                          0.0                          1.0   \n",
       "\n",
       "   Outlet_Location_Type_Tier 3  Outlet_Type_Grocery Store  \\\n",
       "0                          1.0                        0.0   \n",
       "1                          0.0                        0.0   \n",
       "2                          0.0                        0.0   \n",
       "3                          1.0                        0.0   \n",
       "4                          0.0                        0.0   \n",
       "\n",
       "   Outlet_Type_Supermarket Type1  Outlet_Type_Supermarket Type2  \\\n",
       "0                            1.0                            0.0   \n",
       "1                            1.0                            0.0   \n",
       "2                            1.0                            0.0   \n",
       "3                            0.0                            0.0   \n",
       "4                            1.0                            0.0   \n",
       "\n",
       "   Outlet_Type_Supermarket Type3  \n",
       "0                            0.0  \n",
       "1                            0.0  \n",
       "2                            0.0  \n",
       "3                            1.0  \n",
       "4                            0.0  \n",
       "\n",
       "[5 rows x 1572 columns]"
      ]
     },
     "execution_count": 109,
     "metadata": {},
     "output_type": "execute_result"
    }
   ],
   "source": [
    "num_feats_test = X_test.select_dtypes(exclude=['object']).reset_index(drop=True)\n",
    "cat_feats_test = X_test.select_dtypes(include=['object'])\n",
    "X_test_cat_ohe = pd.DataFrame(ohe.transform(cat_feats_test).toarray(), columns=ohe_feature_names)\n",
    "X_test_final = pd.concat([num_feats_test, X_test_cat_ohe], axis=1)\n",
    "X_test_final = X_test_final[final_columns]\n",
    "\n",
    "X_test_final.head()"
   ]
  },
  {
   "cell_type": "code",
   "execution_count": 115,
   "id": "e81cc206",
   "metadata": {},
   "outputs": [
    {
     "name": "stdout",
     "output_type": "stream",
     "text": [
      "Requirement already satisfied: xgboost in c:\\users\\patron\\anaconda3\\lib\\site-packages (2.0.2)\n",
      "Requirement already satisfied: numpy in c:\\users\\patron\\anaconda3\\lib\\site-packages (from xgboost) (1.24.3)\n",
      "Requirement already satisfied: scipy in c:\\users\\patron\\anaconda3\\lib\\site-packages (from xgboost) (1.10.1)\n",
      "Collecting lightgbm\n",
      "  Obtaining dependency information for lightgbm from https://files.pythonhosted.org/packages/b3/f8/ee33e36194eb03a76eccf3adac3fba51f0e56fbd20609bb531659d48d3cb/lightgbm-4.1.0-py3-none-win_amd64.whl.metadata\n",
      "  Downloading lightgbm-4.1.0-py3-none-win_amd64.whl.metadata (19 kB)\n",
      "Requirement already satisfied: numpy in c:\\users\\patron\\anaconda3\\lib\\site-packages (from lightgbm) (1.24.3)\n",
      "Requirement already satisfied: scipy in c:\\users\\patron\\anaconda3\\lib\\site-packages (from lightgbm) (1.10.1)\n",
      "Downloading lightgbm-4.1.0-py3-none-win_amd64.whl (1.3 MB)\n",
      "   ---------------------------------------- 0.0/1.3 MB ? eta -:--:--\n",
      "   --- ------------------------------------ 0.1/1.3 MB 2.4 MB/s eta 0:00:01\n",
      "   --------------- ------------------------ 0.5/1.3 MB 5.5 MB/s eta 0:00:01\n",
      "   ------------------------------------- -- 1.2/1.3 MB 8.7 MB/s eta 0:00:01\n",
      "   ---------------------------------------- 1.3/1.3 MB 8.4 MB/s eta 0:00:00\n",
      "Installing collected packages: lightgbm\n",
      "Successfully installed lightgbm-4.1.0\n"
     ]
    }
   ],
   "source": [
    "!pip install xgboost\n",
    "!pip install lightgbm\n"
   ]
  },
  {
   "cell_type": "code",
   "execution_count": 116,
   "id": "6b935a2b",
   "metadata": {},
   "outputs": [],
   "source": [
    "from sklearn.ensemble import RandomForestRegressor, GradientBoostingRegressor, HistGradientBoostingRegressor\n",
    "import xgboost as xgb\n",
    "from lightgbm import LGBMRegressor  # Corrected import statement\n",
    "from sklearn.model_selection import cross_validate\n",
    "import numpy as np\n"
   ]
  },
  {
   "cell_type": "code",
   "execution_count": 120,
   "id": "e22bed2d",
   "metadata": {},
   "outputs": [],
   "source": [
    "def train_and_eval_model(model, X_train, y_train, cv=5):\n",
    "    cv_results = cross_validate(model, X_train, y_train, cv=cv, scoring=('r2', 'neg_root_mean_squared_error'),)\n",
    "    print('Model:', model)\n",
    "    r2_scores = cv_results['test_r2']\n",
    "    print('R2 CV scores:', r2_scores)\n",
    "    print('R2 CV scores mean/stdev:', np.mean(r2_scores), '/', np.std(r2_scores))\n",
    "    \n",
    "    rmse_scores = cv_results['test_neg_root_mean_squared_error']\n",
    "    rmse_scores = [-1*score for score in rmse_scores]\n",
    "    print('RMSE CV scores:', rmse_scores)\n",
    "    print('RMSE CV scores mean/stdv:', np.mean(rmse_scores), '/', np.std(rmse_scores))\n",
    "    "
   ]
  },
  {
   "cell_type": "code",
   "execution_count": 121,
   "id": "d716f106",
   "metadata": {},
   "outputs": [
    {
     "name": "stdout",
     "output_type": "stream",
     "text": [
      "Model: RandomForestRegressor(random_state=42)\n",
      "R2 CV scores: [0.57180617 0.52721153 0.54237015 0.5525869  0.51622458]\n",
      "R2 CV scores mean/stdev: 0.5420398640857302 / 0.019409743250955746\n",
      "RMSE CV scores: [1102.524753140672, 1167.9828352151392, 1181.1734851314827, 1156.5435055401338, 1207.0247905221004]\n",
      "RMSE CV scores mean/stdv: 1163.0498739099055 / 34.61853767995633\n"
     ]
    }
   ],
   "source": [
    "rf = RandomForestRegressor(random_state=SEED)\n",
    "train_and_eval_model(model=rf, X_train=X_train_final, y_train=y_train)"
   ]
  },
  {
   "cell_type": "code",
   "execution_count": 123,
   "id": "5b6fb7b9",
   "metadata": {},
   "outputs": [
    {
     "name": "stdout",
     "output_type": "stream",
     "text": [
      "Model: GradientBoostingRegressor(random_state=42)\n",
      "R2 CV scores: [0.60617966 0.59187516 0.57328493 0.60740308 0.54964161]\n",
      "R2 CV scores mean/stdev: 0.5856768872321926 / 0.02183076748206495\n",
      "RMSE CV scores: [1057.3462193020523, 1085.1743933109324, 1140.579358607534, 1083.3806323883641, 1164.5909726377847]\n",
      "RMSE CV scores mean/stdv: 1106.2143152493336 / 39.8520677569976\n"
     ]
    }
   ],
   "source": [
    "gb = GradientBoostingRegressor(random_state=SEED)\n",
    "train_and_eval_model(model=gb, X_train=X_train_final, y_train=y_train)"
   ]
  },
  {
   "cell_type": "code",
   "execution_count": 124,
   "id": "c3112c16",
   "metadata": {},
   "outputs": [
    {
     "name": "stdout",
     "output_type": "stream",
     "text": [
      "Model: HistGradientBoostingRegressor(random_state=42)\n",
      "R2 CV scores: [0.58388983 0.54033287 0.54755752 0.58223783 0.54716116]\n",
      "R2 CV scores mean/stdev: 0.560235840722721 / 0.018822404148431414\n",
      "RMSE CV scores: [1086.8567589000188, 1151.6612301389123, 1174.459929973874, 1117.5634249975221, 1167.7936944145083]\n",
      "RMSE CV scores mean/stdv: 1139.667007684967 / 32.9332964168704\n"
     ]
    }
   ],
   "source": [
    "hgb = HistGradientBoostingRegressor(random_state=SEED)\n",
    "train_and_eval_model(model=hgb, X_train=X_train_final, y_train=y_train)"
   ]
  },
  {
   "cell_type": "code",
   "execution_count": 125,
   "id": "ef818d34",
   "metadata": {},
   "outputs": [
    {
     "name": "stdout",
     "output_type": "stream",
     "text": [
      "Model: XGBRegressor(base_score=None, booster=None, callbacks=None,\n",
      "             colsample_bylevel=None, colsample_bynode=None,\n",
      "             colsample_bytree=None, device=None, early_stopping_rounds=None,\n",
      "             enable_categorical=False, eval_metric=None, feature_types=None,\n",
      "             gamma=None, grow_policy=None, importance_type=None,\n",
      "             interaction_constraints=None, learning_rate=None, max_bin=None,\n",
      "             max_cat_threshold=None, max_cat_to_onehot=None,\n",
      "             max_delta_step=None, max_depth=None, max_leaves=None,\n",
      "             min_child_weight=None, missing=nan, monotone_constraints=None,\n",
      "             multi_strategy=None, n_estimators=None, n_jobs=None,\n",
      "             num_parallel_tree=None, random_state=42, ...)\n",
      "R2 CV scores: [0.5722618  0.56124852 0.54216909 0.58442259 0.52471549]\n",
      "R2 CV scores mean/stdev: 0.5569634948570625 / 0.021284782110308577\n",
      "RMSE CV scores: [1101.938022179983, 1125.1549127000342, 1181.4329294127963, 1114.637349022773, 1196.3854449511152]\n",
      "RMSE CV scores mean/stdv: 1143.9097316533405 / 37.76752803974088\n"
     ]
    }
   ],
   "source": [
    "xgr = xgb.XGBRegressor(objective='reg:squarederror', random_state=SEED)\n",
    "train_and_eval_model(model=xgr, X_train=X_train_final, y_train=y_train)"
   ]
  },
  {
   "cell_type": "code",
   "execution_count": 127,
   "id": "ffa212bf",
   "metadata": {},
   "outputs": [
    {
     "name": "stdout",
     "output_type": "stream",
     "text": [
      "[LightGBM] [Warning] Found whitespace in feature_names, replace with underlines\n",
      "[LightGBM] [Info] Auto-choosing row-wise multi-threading, the overhead of testing was 0.000363 seconds.\n",
      "You can set `force_row_wise=true` to remove the overhead.\n",
      "And if memory is not enough, you can set `force_col_wise=true`.\n",
      "[LightGBM] [Info] Total Bins 800\n",
      "[LightGBM] [Info] Number of data points in the train set: 4772, number of used features: 29\n",
      "[LightGBM] [Info] Start training from score 2221.272740\n",
      "[LightGBM] [Warning] Found whitespace in feature_names, replace with underlines\n",
      "[LightGBM] [Info] Auto-choosing col-wise multi-threading, the overhead of testing was 0.000366 seconds.\n",
      "You can set `force_col_wise=true` to remove the overhead.\n",
      "[LightGBM] [Info] Total Bins 805\n",
      "[LightGBM] [Info] Number of data points in the train set: 4773, number of used features: 29\n",
      "[LightGBM] [Info] Start training from score 2213.452868\n",
      "[LightGBM] [Warning] Found whitespace in feature_names, replace with underlines\n",
      "[LightGBM] [Info] Auto-choosing col-wise multi-threading, the overhead of testing was 0.000367 seconds.\n",
      "You can set `force_col_wise=true` to remove the overhead.\n",
      "[LightGBM] [Info] Total Bins 803\n",
      "[LightGBM] [Info] Number of data points in the train set: 4773, number of used features: 29\n",
      "[LightGBM] [Info] Start training from score 2199.762748\n",
      "[LightGBM] [Warning] Found whitespace in feature_names, replace with underlines\n",
      "[LightGBM] [Info] Auto-choosing col-wise multi-threading, the overhead of testing was 0.000315 seconds.\n",
      "You can set `force_col_wise=true` to remove the overhead.\n",
      "[LightGBM] [Info] Total Bins 802\n",
      "[LightGBM] [Info] Number of data points in the train set: 4773, number of used features: 29\n",
      "[LightGBM] [Info] Start training from score 2206.391176\n",
      "[LightGBM] [Warning] Found whitespace in feature_names, replace with underlines\n",
      "[LightGBM] [Info] Auto-choosing col-wise multi-threading, the overhead of testing was 0.000603 seconds.\n",
      "You can set `force_col_wise=true` to remove the overhead.\n",
      "[LightGBM] [Info] Total Bins 803\n",
      "[LightGBM] [Info] Number of data points in the train set: 4773, number of used features: 29\n",
      "[LightGBM] [Info] Start training from score 2183.536506\n",
      "Model: LGBMRegressor(random_state=42)\n",
      "R2 CV scores: [0.58044965 0.54290123 0.55229509 0.57917993 0.53128756]\n",
      "R2 CV scores mean/stdev: 0.5572226926193101 / 0.019614422817304456\n",
      "RMSE CV scores: [1091.3403018044362, 1148.4393032004118, 1168.2947977744143, 1121.6460912885495, 1188.0850393008811]\n",
      "RMSE CV scores mean/stdv: 1143.5611066737388 / 34.132720998870425\n"
     ]
    }
   ],
   "source": [
    "lgbr = LGBMRegressor(random_state=SEED)\n",
    "train_and_eval_model(model=lgbr, X_train=X_train_final, y_train=y_train)"
   ]
  },
  {
   "cell_type": "code",
   "execution_count": 130,
   "id": "3709b85f",
   "metadata": {},
   "outputs": [
    {
     "data": {
      "text/plain": [
       "(['Item_Fat_Content',\n",
       "  'Item_Type',\n",
       "  'Outlet_Identifier',\n",
       "  'Outlet_Size',\n",
       "  'Outlet_Location_Type',\n",
       "  'Outlet_Type'],\n",
       " ['Item_Weight', 'Item_Visibility', 'Item_MRP', 'Outlet_Establishment_Year'])"
      ]
     },
     "execution_count": 130,
     "metadata": {},
     "output_type": "execute_result"
    }
   ],
   "source": [
    "X_train_copy= X_train.copy().drop(columns= 'Item_Identifier')\n",
    "\n",
    "cat_cols = X_train_copy.select_dtypes(include='object').columns.tolist()\n",
    "num_cols = X_train_copy.select_dtypes(exclude='object').columns.tolist()\n",
    "cat_cols, num_cols"
   ]
  },
  {
   "cell_type": "code",
   "execution_count": 131,
   "id": "96a47a29",
   "metadata": {
    "scrolled": true
   },
   "outputs": [
    {
     "name": "stdout",
     "output_type": "stream",
     "text": [
      "<class 'pandas.core.frame.DataFrame'>\n",
      "Int64Index: 5966 entries, 1921 to 7270\n",
      "Data columns (total 10 columns):\n",
      " #   Column                     Non-Null Count  Dtype   \n",
      "---  ------                     --------------  -----   \n",
      " 0   Item_Fat_Content           5966 non-null   category\n",
      " 1   Item_Type                  5966 non-null   category\n",
      " 2   Outlet_Identifier          5966 non-null   category\n",
      " 3   Outlet_Size                5966 non-null   category\n",
      " 4   Outlet_Location_Type       5966 non-null   category\n",
      " 5   Outlet_Type                5966 non-null   category\n",
      " 6   Item_Weight                5966 non-null   float64 \n",
      " 7   Item_Visibility            5966 non-null   float64 \n",
      " 8   Item_MRP                   5966 non-null   float64 \n",
      " 9   Outlet_Establishment_Year  5966 non-null   int64   \n",
      "dtypes: category(6), float64(3), int64(1)\n",
      "memory usage: 269.1 KB\n"
     ]
    }
   ],
   "source": [
    "X_train_copy[cat_cols]= X_train_copy[cat_cols].astype('category')\n",
    "n_categorial_features= len(cat_cols)\n",
    "n_numerical_features = len(num_cols)\n",
    "X_train_copy = X_train_copy[cat_cols+num_cols]\n",
    "\n",
    "X_train_copy.info()"
   ]
  },
  {
   "cell_type": "code",
   "execution_count": 134,
   "id": "e05d3d66",
   "metadata": {},
   "outputs": [
    {
     "data": {
      "text/plain": [
       "[True, True, True, True, True, True, False, False, False, False]"
      ]
     },
     "execution_count": 134,
     "metadata": {},
     "output_type": "execute_result"
    }
   ],
   "source": [
    "categorical_mask = [True] * n_categorial_features + [False] * n_numerical_features\n",
    "\n",
    "\n",
    "categorical_mask"
   ]
  },
  {
   "cell_type": "code",
   "execution_count": 140,
   "id": "8a2696eb",
   "metadata": {},
   "outputs": [
    {
     "ename": "ValueError",
     "evalue": "\nAll the 5 fits failed.\nIt is very likely that your model is misconfigured.\nYou can try to debug the error by setting error_score='raise'.\n\nBelow are more details about the failures:\n--------------------------------------------------------------------------------\n5 fits failed with the following error:\nTraceback (most recent call last):\n  File \"C:\\Users\\Patron\\anaconda3\\Lib\\site-packages\\sklearn\\model_selection\\_validation.py\", line 732, in _fit_and_score\n    estimator.fit(X_train, y_train, **fit_params)\n  File \"C:\\Users\\Patron\\anaconda3\\Lib\\site-packages\\sklearn\\base.py\", line 1151, in wrapper\n    return fit_method(estimator, *args, **kwargs)\n           ^^^^^^^^^^^^^^^^^^^^^^^^^^^^^^^^^^^^^^\n  File \"C:\\Users\\Patron\\anaconda3\\Lib\\site-packages\\sklearn\\pipeline.py\", line 420, in fit\n    self._final_estimator.fit(Xt, y, **fit_params_last_step)\n  File \"C:\\Users\\Patron\\anaconda3\\Lib\\site-packages\\sklearn\\base.py\", line 1151, in wrapper\n    return fit_method(estimator, *args, **kwargs)\n           ^^^^^^^^^^^^^^^^^^^^^^^^^^^^^^^^^^^^^^\n  File \"C:\\Users\\Patron\\anaconda3\\Lib\\site-packages\\sklearn\\ensemble\\_hist_gradient_boosting\\gradient_boosting.py\", line 397, in fit\n    self.is_categorical_, known_categories = self._check_categories(X)\n                                             ^^^^^^^^^^^^^^^^^^^^^^^^^\n  File \"C:\\Users\\Patron\\anaconda3\\Lib\\site-packages\\sklearn\\ensemble\\_hist_gradient_boosting\\gradient_boosting.py\", line 254, in _check_categories\n    raise ValueError(\nValueError: categorical_features set as a boolean mask must have shape (n_features,), got: (10,)\n",
     "output_type": "error",
     "traceback": [
      "\u001b[1;31m---------------------------------------------------------------------------\u001b[0m",
      "\u001b[1;31mValueError\u001b[0m                                Traceback (most recent call last)",
      "Cell \u001b[1;32mIn[140], line 24\u001b[0m\n\u001b[0;32m     18\u001b[0m hgb \u001b[38;5;241m=\u001b[39m make_pipeline(\n\u001b[0;32m     19\u001b[0m     ordinal_encoder,\n\u001b[0;32m     20\u001b[0m     HistGradientBoostingRegressor(random_state\u001b[38;5;241m=\u001b[39m\u001b[38;5;241m42\u001b[39m, categorical_features\u001b[38;5;241m=\u001b[39mcategorical_mask),\n\u001b[0;32m     21\u001b[0m )\n\u001b[0;32m     23\u001b[0m \u001b[38;5;66;03m# Assuming you have defined X_train_final and y_train\u001b[39;00m\n\u001b[1;32m---> 24\u001b[0m cv_results \u001b[38;5;241m=\u001b[39m cross_validate(hgb, X_train_final, y_train, cv\u001b[38;5;241m=\u001b[39m\u001b[38;5;241m5\u001b[39m, scoring\u001b[38;5;241m=\u001b[39m(\u001b[38;5;124m'\u001b[39m\u001b[38;5;124mr2\u001b[39m\u001b[38;5;124m'\u001b[39m, \u001b[38;5;124m'\u001b[39m\u001b[38;5;124mneg_root_mean_squared_error\u001b[39m\u001b[38;5;124m'\u001b[39m))\n",
      "File \u001b[1;32m~\\anaconda3\\Lib\\site-packages\\sklearn\\utils\\_param_validation.py:211\u001b[0m, in \u001b[0;36mvalidate_params.<locals>.decorator.<locals>.wrapper\u001b[1;34m(*args, **kwargs)\u001b[0m\n\u001b[0;32m    205\u001b[0m \u001b[38;5;28;01mtry\u001b[39;00m:\n\u001b[0;32m    206\u001b[0m     \u001b[38;5;28;01mwith\u001b[39;00m config_context(\n\u001b[0;32m    207\u001b[0m         skip_parameter_validation\u001b[38;5;241m=\u001b[39m(\n\u001b[0;32m    208\u001b[0m             prefer_skip_nested_validation \u001b[38;5;129;01mor\u001b[39;00m global_skip_validation\n\u001b[0;32m    209\u001b[0m         )\n\u001b[0;32m    210\u001b[0m     ):\n\u001b[1;32m--> 211\u001b[0m         \u001b[38;5;28;01mreturn\u001b[39;00m func(\u001b[38;5;241m*\u001b[39margs, \u001b[38;5;241m*\u001b[39m\u001b[38;5;241m*\u001b[39mkwargs)\n\u001b[0;32m    212\u001b[0m \u001b[38;5;28;01mexcept\u001b[39;00m InvalidParameterError \u001b[38;5;28;01mas\u001b[39;00m e:\n\u001b[0;32m    213\u001b[0m     \u001b[38;5;66;03m# When the function is just a wrapper around an estimator, we allow\u001b[39;00m\n\u001b[0;32m    214\u001b[0m     \u001b[38;5;66;03m# the function to delegate validation to the estimator, but we replace\u001b[39;00m\n\u001b[0;32m    215\u001b[0m     \u001b[38;5;66;03m# the name of the estimator by the name of the function in the error\u001b[39;00m\n\u001b[0;32m    216\u001b[0m     \u001b[38;5;66;03m# message to avoid confusion.\u001b[39;00m\n\u001b[0;32m    217\u001b[0m     msg \u001b[38;5;241m=\u001b[39m re\u001b[38;5;241m.\u001b[39msub(\n\u001b[0;32m    218\u001b[0m         \u001b[38;5;124mr\u001b[39m\u001b[38;5;124m\"\u001b[39m\u001b[38;5;124mparameter of \u001b[39m\u001b[38;5;124m\\\u001b[39m\u001b[38;5;124mw+ must be\u001b[39m\u001b[38;5;124m\"\u001b[39m,\n\u001b[0;32m    219\u001b[0m         \u001b[38;5;124mf\u001b[39m\u001b[38;5;124m\"\u001b[39m\u001b[38;5;124mparameter of \u001b[39m\u001b[38;5;132;01m{\u001b[39;00mfunc\u001b[38;5;241m.\u001b[39m\u001b[38;5;18m__qualname__\u001b[39m\u001b[38;5;132;01m}\u001b[39;00m\u001b[38;5;124m must be\u001b[39m\u001b[38;5;124m\"\u001b[39m,\n\u001b[0;32m    220\u001b[0m         \u001b[38;5;28mstr\u001b[39m(e),\n\u001b[0;32m    221\u001b[0m     )\n",
      "File \u001b[1;32m~\\anaconda3\\Lib\\site-packages\\sklearn\\model_selection\\_validation.py:328\u001b[0m, in \u001b[0;36mcross_validate\u001b[1;34m(estimator, X, y, groups, scoring, cv, n_jobs, verbose, fit_params, pre_dispatch, return_train_score, return_estimator, return_indices, error_score)\u001b[0m\n\u001b[0;32m    308\u001b[0m parallel \u001b[38;5;241m=\u001b[39m Parallel(n_jobs\u001b[38;5;241m=\u001b[39mn_jobs, verbose\u001b[38;5;241m=\u001b[39mverbose, pre_dispatch\u001b[38;5;241m=\u001b[39mpre_dispatch)\n\u001b[0;32m    309\u001b[0m results \u001b[38;5;241m=\u001b[39m parallel(\n\u001b[0;32m    310\u001b[0m     delayed(_fit_and_score)(\n\u001b[0;32m    311\u001b[0m         clone(estimator),\n\u001b[1;32m   (...)\u001b[0m\n\u001b[0;32m    325\u001b[0m     \u001b[38;5;28;01mfor\u001b[39;00m train, test \u001b[38;5;129;01min\u001b[39;00m indices\n\u001b[0;32m    326\u001b[0m )\n\u001b[1;32m--> 328\u001b[0m _warn_or_raise_about_fit_failures(results, error_score)\n\u001b[0;32m    330\u001b[0m \u001b[38;5;66;03m# For callable scoring, the return type is only know after calling. If the\u001b[39;00m\n\u001b[0;32m    331\u001b[0m \u001b[38;5;66;03m# return type is a dictionary, the error scores can now be inserted with\u001b[39;00m\n\u001b[0;32m    332\u001b[0m \u001b[38;5;66;03m# the correct key.\u001b[39;00m\n\u001b[0;32m    333\u001b[0m \u001b[38;5;28;01mif\u001b[39;00m \u001b[38;5;28mcallable\u001b[39m(scoring):\n",
      "File \u001b[1;32m~\\anaconda3\\Lib\\site-packages\\sklearn\\model_selection\\_validation.py:414\u001b[0m, in \u001b[0;36m_warn_or_raise_about_fit_failures\u001b[1;34m(results, error_score)\u001b[0m\n\u001b[0;32m    407\u001b[0m \u001b[38;5;28;01mif\u001b[39;00m num_failed_fits \u001b[38;5;241m==\u001b[39m num_fits:\n\u001b[0;32m    408\u001b[0m     all_fits_failed_message \u001b[38;5;241m=\u001b[39m (\n\u001b[0;32m    409\u001b[0m         \u001b[38;5;124mf\u001b[39m\u001b[38;5;124m\"\u001b[39m\u001b[38;5;130;01m\\n\u001b[39;00m\u001b[38;5;124mAll the \u001b[39m\u001b[38;5;132;01m{\u001b[39;00mnum_fits\u001b[38;5;132;01m}\u001b[39;00m\u001b[38;5;124m fits failed.\u001b[39m\u001b[38;5;130;01m\\n\u001b[39;00m\u001b[38;5;124m\"\u001b[39m\n\u001b[0;32m    410\u001b[0m         \u001b[38;5;124m\"\u001b[39m\u001b[38;5;124mIt is very likely that your model is misconfigured.\u001b[39m\u001b[38;5;130;01m\\n\u001b[39;00m\u001b[38;5;124m\"\u001b[39m\n\u001b[0;32m    411\u001b[0m         \u001b[38;5;124m\"\u001b[39m\u001b[38;5;124mYou can try to debug the error by setting error_score=\u001b[39m\u001b[38;5;124m'\u001b[39m\u001b[38;5;124mraise\u001b[39m\u001b[38;5;124m'\u001b[39m\u001b[38;5;124m.\u001b[39m\u001b[38;5;130;01m\\n\u001b[39;00m\u001b[38;5;130;01m\\n\u001b[39;00m\u001b[38;5;124m\"\u001b[39m\n\u001b[0;32m    412\u001b[0m         \u001b[38;5;124mf\u001b[39m\u001b[38;5;124m\"\u001b[39m\u001b[38;5;124mBelow are more details about the failures:\u001b[39m\u001b[38;5;130;01m\\n\u001b[39;00m\u001b[38;5;132;01m{\u001b[39;00mfit_errors_summary\u001b[38;5;132;01m}\u001b[39;00m\u001b[38;5;124m\"\u001b[39m\n\u001b[0;32m    413\u001b[0m     )\n\u001b[1;32m--> 414\u001b[0m     \u001b[38;5;28;01mraise\u001b[39;00m \u001b[38;5;167;01mValueError\u001b[39;00m(all_fits_failed_message)\n\u001b[0;32m    416\u001b[0m \u001b[38;5;28;01melse\u001b[39;00m:\n\u001b[0;32m    417\u001b[0m     some_fits_failed_message \u001b[38;5;241m=\u001b[39m (\n\u001b[0;32m    418\u001b[0m         \u001b[38;5;124mf\u001b[39m\u001b[38;5;124m\"\u001b[39m\u001b[38;5;130;01m\\n\u001b[39;00m\u001b[38;5;132;01m{\u001b[39;00mnum_failed_fits\u001b[38;5;132;01m}\u001b[39;00m\u001b[38;5;124m fits failed out of a total of \u001b[39m\u001b[38;5;132;01m{\u001b[39;00mnum_fits\u001b[38;5;132;01m}\u001b[39;00m\u001b[38;5;124m.\u001b[39m\u001b[38;5;130;01m\\n\u001b[39;00m\u001b[38;5;124m\"\u001b[39m\n\u001b[0;32m    419\u001b[0m         \u001b[38;5;124m\"\u001b[39m\u001b[38;5;124mThe score on these train-test partitions for these parameters\u001b[39m\u001b[38;5;124m\"\u001b[39m\n\u001b[1;32m   (...)\u001b[0m\n\u001b[0;32m    423\u001b[0m         \u001b[38;5;124mf\u001b[39m\u001b[38;5;124m\"\u001b[39m\u001b[38;5;124mBelow are more details about the failures:\u001b[39m\u001b[38;5;130;01m\\n\u001b[39;00m\u001b[38;5;132;01m{\u001b[39;00mfit_errors_summary\u001b[38;5;132;01m}\u001b[39;00m\u001b[38;5;124m\"\u001b[39m\n\u001b[0;32m    424\u001b[0m     )\n",
      "\u001b[1;31mValueError\u001b[0m: \nAll the 5 fits failed.\nIt is very likely that your model is misconfigured.\nYou can try to debug the error by setting error_score='raise'.\n\nBelow are more details about the failures:\n--------------------------------------------------------------------------------\n5 fits failed with the following error:\nTraceback (most recent call last):\n  File \"C:\\Users\\Patron\\anaconda3\\Lib\\site-packages\\sklearn\\model_selection\\_validation.py\", line 732, in _fit_and_score\n    estimator.fit(X_train, y_train, **fit_params)\n  File \"C:\\Users\\Patron\\anaconda3\\Lib\\site-packages\\sklearn\\base.py\", line 1151, in wrapper\n    return fit_method(estimator, *args, **kwargs)\n           ^^^^^^^^^^^^^^^^^^^^^^^^^^^^^^^^^^^^^^\n  File \"C:\\Users\\Patron\\anaconda3\\Lib\\site-packages\\sklearn\\pipeline.py\", line 420, in fit\n    self._final_estimator.fit(Xt, y, **fit_params_last_step)\n  File \"C:\\Users\\Patron\\anaconda3\\Lib\\site-packages\\sklearn\\base.py\", line 1151, in wrapper\n    return fit_method(estimator, *args, **kwargs)\n           ^^^^^^^^^^^^^^^^^^^^^^^^^^^^^^^^^^^^^^\n  File \"C:\\Users\\Patron\\anaconda3\\Lib\\site-packages\\sklearn\\ensemble\\_hist_gradient_boosting\\gradient_boosting.py\", line 397, in fit\n    self.is_categorical_, known_categories = self._check_categories(X)\n                                             ^^^^^^^^^^^^^^^^^^^^^^^^^\n  File \"C:\\Users\\Patron\\anaconda3\\Lib\\site-packages\\sklearn\\ensemble\\_hist_gradient_boosting\\gradient_boosting.py\", line 254, in _check_categories\n    raise ValueError(\nValueError: categorical_features set as a boolean mask must have shape (n_features,), got: (10,)\n"
     ]
    }
   ],
   "source": [
    "from sklearn.preprocessing import OrdinalEncoder\n",
    "from sklearn.pipeline import make_pipeline\n",
    "from sklearn.ensemble import HistGradientBoostingRegressor\n",
    "from sklearn.model_selection import cross_validate\n",
    "import numpy as np\n",
    "\n",
    "# Assuming you have defined n_categorical_features and n_numerical_features correctly\n",
    "categorical_mask = [True] * n_categorial_features + [False] * n_numerical_features\n",
    "\n",
    "ordinal_encoder = make_column_transformer(\n",
    "    (\n",
    "        OrdinalEncoder(handle_unknown='use_encoded_value', unknown_value=np.nan),\n",
    "        make_column_selector(dtype_include='category'),\n",
    "    ),\n",
    "    remainder=\"passthrough\",\n",
    ")\n",
    "\n",
    "hgb = make_pipeline(\n",
    "    ordinal_encoder,\n",
    "    HistGradientBoostingRegressor(random_state=42, categorical_features=categorical_mask),\n",
    ")\n",
    "\n",
    "# Assuming you have defined X_train_final and y_train\n",
    "cv_results = cross_validate(hgb, X_train_final, y_train, cv=5, scoring=('r2', 'neg_root_mean_squared_error'))\n",
    "# The rest of your evaluation code...\n"
   ]
  },
  {
   "cell_type": "code",
   "execution_count": 143,
   "id": "f09704a0",
   "metadata": {},
   "outputs": [
    {
     "data": {
      "text/html": [
       "<div>\n",
       "<style scoped>\n",
       "    .dataframe tbody tr th:only-of-type {\n",
       "        vertical-align: middle;\n",
       "    }\n",
       "\n",
       "    .dataframe tbody tr th {\n",
       "        vertical-align: top;\n",
       "    }\n",
       "\n",
       "    .dataframe thead th {\n",
       "        text-align: right;\n",
       "    }\n",
       "</style>\n",
       "<table border=\"1\" class=\"dataframe\">\n",
       "  <thead>\n",
       "    <tr style=\"text-align: right;\">\n",
       "      <th></th>\n",
       "      <th>H0</th>\n",
       "      <th>H1</th>\n",
       "      <th>H2</th>\n",
       "      <th>H3</th>\n",
       "      <th>H4</th>\n",
       "      <th>H5</th>\n",
       "      <th>H6</th>\n",
       "      <th>H7</th>\n",
       "      <th>H8</th>\n",
       "      <th>H9</th>\n",
       "      <th>...</th>\n",
       "      <th>H40</th>\n",
       "      <th>H41</th>\n",
       "      <th>H42</th>\n",
       "      <th>H43</th>\n",
       "      <th>H44</th>\n",
       "      <th>H45</th>\n",
       "      <th>H46</th>\n",
       "      <th>H47</th>\n",
       "      <th>H48</th>\n",
       "      <th>H49</th>\n",
       "    </tr>\n",
       "  </thead>\n",
       "  <tbody>\n",
       "    <tr>\n",
       "      <th>0</th>\n",
       "      <td>0.0</td>\n",
       "      <td>0.0</td>\n",
       "      <td>0.0</td>\n",
       "      <td>0.0</td>\n",
       "      <td>0.0</td>\n",
       "      <td>0.0</td>\n",
       "      <td>0.0</td>\n",
       "      <td>0.0</td>\n",
       "      <td>1.0</td>\n",
       "      <td>0.0</td>\n",
       "      <td>...</td>\n",
       "      <td>0.0</td>\n",
       "      <td>0.0</td>\n",
       "      <td>0.0</td>\n",
       "      <td>0.0</td>\n",
       "      <td>0.0</td>\n",
       "      <td>0.0</td>\n",
       "      <td>0.0</td>\n",
       "      <td>0.0</td>\n",
       "      <td>0.0</td>\n",
       "      <td>0.0</td>\n",
       "    </tr>\n",
       "    <tr>\n",
       "      <th>1</th>\n",
       "      <td>0.0</td>\n",
       "      <td>0.0</td>\n",
       "      <td>0.0</td>\n",
       "      <td>0.0</td>\n",
       "      <td>0.0</td>\n",
       "      <td>0.0</td>\n",
       "      <td>0.0</td>\n",
       "      <td>0.0</td>\n",
       "      <td>0.0</td>\n",
       "      <td>0.0</td>\n",
       "      <td>...</td>\n",
       "      <td>0.0</td>\n",
       "      <td>0.0</td>\n",
       "      <td>0.0</td>\n",
       "      <td>0.0</td>\n",
       "      <td>0.0</td>\n",
       "      <td>0.0</td>\n",
       "      <td>0.0</td>\n",
       "      <td>0.0</td>\n",
       "      <td>0.0</td>\n",
       "      <td>0.0</td>\n",
       "    </tr>\n",
       "    <tr>\n",
       "      <th>2</th>\n",
       "      <td>0.0</td>\n",
       "      <td>0.0</td>\n",
       "      <td>0.0</td>\n",
       "      <td>0.0</td>\n",
       "      <td>0.0</td>\n",
       "      <td>0.0</td>\n",
       "      <td>0.0</td>\n",
       "      <td>0.0</td>\n",
       "      <td>0.0</td>\n",
       "      <td>0.0</td>\n",
       "      <td>...</td>\n",
       "      <td>0.0</td>\n",
       "      <td>0.0</td>\n",
       "      <td>0.0</td>\n",
       "      <td>0.0</td>\n",
       "      <td>0.0</td>\n",
       "      <td>0.0</td>\n",
       "      <td>0.0</td>\n",
       "      <td>0.0</td>\n",
       "      <td>0.0</td>\n",
       "      <td>0.0</td>\n",
       "    </tr>\n",
       "    <tr>\n",
       "      <th>3</th>\n",
       "      <td>0.0</td>\n",
       "      <td>0.0</td>\n",
       "      <td>0.0</td>\n",
       "      <td>0.0</td>\n",
       "      <td>0.0</td>\n",
       "      <td>0.0</td>\n",
       "      <td>0.0</td>\n",
       "      <td>0.0</td>\n",
       "      <td>0.0</td>\n",
       "      <td>0.0</td>\n",
       "      <td>...</td>\n",
       "      <td>0.0</td>\n",
       "      <td>0.0</td>\n",
       "      <td>0.0</td>\n",
       "      <td>0.0</td>\n",
       "      <td>0.0</td>\n",
       "      <td>0.0</td>\n",
       "      <td>0.0</td>\n",
       "      <td>0.0</td>\n",
       "      <td>0.0</td>\n",
       "      <td>0.0</td>\n",
       "    </tr>\n",
       "    <tr>\n",
       "      <th>4</th>\n",
       "      <td>0.0</td>\n",
       "      <td>0.0</td>\n",
       "      <td>0.0</td>\n",
       "      <td>0.0</td>\n",
       "      <td>0.0</td>\n",
       "      <td>0.0</td>\n",
       "      <td>0.0</td>\n",
       "      <td>0.0</td>\n",
       "      <td>0.0</td>\n",
       "      <td>0.0</td>\n",
       "      <td>...</td>\n",
       "      <td>0.0</td>\n",
       "      <td>0.0</td>\n",
       "      <td>0.0</td>\n",
       "      <td>0.0</td>\n",
       "      <td>0.0</td>\n",
       "      <td>0.0</td>\n",
       "      <td>0.0</td>\n",
       "      <td>0.0</td>\n",
       "      <td>0.0</td>\n",
       "      <td>0.0</td>\n",
       "    </tr>\n",
       "  </tbody>\n",
       "</table>\n",
       "<p>5 rows × 50 columns</p>\n",
       "</div>"
      ],
      "text/plain": [
       "    H0   H1   H2   H3   H4   H5   H6   H7   H8   H9  ...  H40  H41  H42  H43  \\\n",
       "0  0.0  0.0  0.0  0.0  0.0  0.0  0.0  0.0  1.0  0.0  ...  0.0  0.0  0.0  0.0   \n",
       "1  0.0  0.0  0.0  0.0  0.0  0.0  0.0  0.0  0.0  0.0  ...  0.0  0.0  0.0  0.0   \n",
       "2  0.0  0.0  0.0  0.0  0.0  0.0  0.0  0.0  0.0  0.0  ...  0.0  0.0  0.0  0.0   \n",
       "3  0.0  0.0  0.0  0.0  0.0  0.0  0.0  0.0  0.0  0.0  ...  0.0  0.0  0.0  0.0   \n",
       "4  0.0  0.0  0.0  0.0  0.0  0.0  0.0  0.0  0.0  0.0  ...  0.0  0.0  0.0  0.0   \n",
       "\n",
       "   H44  H45  H46  H47  H48  H49  \n",
       "0  0.0  0.0  0.0  0.0  0.0  0.0  \n",
       "1  0.0  0.0  0.0  0.0  0.0  0.0  \n",
       "2  0.0  0.0  0.0  0.0  0.0  0.0  \n",
       "3  0.0  0.0  0.0  0.0  0.0  0.0  \n",
       "4  0.0  0.0  0.0  0.0  0.0  0.0  \n",
       "\n",
       "[5 rows x 50 columns]"
      ]
     },
     "execution_count": 143,
     "metadata": {},
     "output_type": "execute_result"
    }
   ],
   "source": [
    "from sklearn.feature_extraction import FeatureHasher\n",
    "\n",
    "hash_vector_size = 50\n",
    "fh = FeatureHasher(n_features=hash_vector_size, input_type='string')\n",
    "hashed_df = pd.DataFrame(\n",
    "    fh.transform(X_train['Item_Identifier'].apply(lambda x: [x])).toarray(),\n",
    "    columns=['H'+str(i) for i in range(hash_vector_size)]\n",
    ")\n",
    "\n",
    "hashed_df.head()\n"
   ]
  },
  {
   "cell_type": "code",
   "execution_count": 144,
   "id": "20ef967e",
   "metadata": {},
   "outputs": [],
   "source": [
    "cat_feats = X_train.select_dtypes(include=['object']).drop(columns=['Item_Identifier'])\n",
    "ohe = OneHotEncoder(handle_unknown='ignore')\n",
    "ohe.fit(cat_feats)\n",
    "ohe_feature_names = ohe.get_feature_names_out(input_features= cat_feats.columns)"
   ]
  },
  {
   "cell_type": "code",
   "execution_count": 147,
   "id": "3e090b54",
   "metadata": {},
   "outputs": [
    {
     "data": {
      "text/html": [
       "<div>\n",
       "<style scoped>\n",
       "    .dataframe tbody tr th:only-of-type {\n",
       "        vertical-align: middle;\n",
       "    }\n",
       "\n",
       "    .dataframe tbody tr th {\n",
       "        vertical-align: top;\n",
       "    }\n",
       "\n",
       "    .dataframe thead th {\n",
       "        text-align: right;\n",
       "    }\n",
       "</style>\n",
       "<table border=\"1\" class=\"dataframe\">\n",
       "  <thead>\n",
       "    <tr style=\"text-align: right;\">\n",
       "      <th></th>\n",
       "      <th>Item_Weight</th>\n",
       "      <th>Item_Visibility</th>\n",
       "      <th>Item_MRP</th>\n",
       "      <th>Outlet_Establishment_Year</th>\n",
       "      <th>H0</th>\n",
       "      <th>H1</th>\n",
       "      <th>H2</th>\n",
       "      <th>H3</th>\n",
       "      <th>H4</th>\n",
       "      <th>H5</th>\n",
       "      <th>...</th>\n",
       "      <th>Outlet_Size_High</th>\n",
       "      <th>Outlet_Size_Medium</th>\n",
       "      <th>Outlet_Size_Small</th>\n",
       "      <th>Outlet_Location_Type_Tier 1</th>\n",
       "      <th>Outlet_Location_Type_Tier 2</th>\n",
       "      <th>Outlet_Location_Type_Tier 3</th>\n",
       "      <th>Outlet_Type_Grocery Store</th>\n",
       "      <th>Outlet_Type_Supermarket Type1</th>\n",
       "      <th>Outlet_Type_Supermarket Type2</th>\n",
       "      <th>Outlet_Type_Supermarket Type3</th>\n",
       "    </tr>\n",
       "  </thead>\n",
       "  <tbody>\n",
       "    <tr>\n",
       "      <th>0</th>\n",
       "      <td>7.72</td>\n",
       "      <td>0.147904</td>\n",
       "      <td>116.6466</td>\n",
       "      <td>1998</td>\n",
       "      <td>0.0</td>\n",
       "      <td>0.0</td>\n",
       "      <td>0.0</td>\n",
       "      <td>0.0</td>\n",
       "      <td>0.0</td>\n",
       "      <td>0.0</td>\n",
       "      <td>...</td>\n",
       "      <td>0.0</td>\n",
       "      <td>0.0</td>\n",
       "      <td>1.0</td>\n",
       "      <td>0.0</td>\n",
       "      <td>0.0</td>\n",
       "      <td>1.0</td>\n",
       "      <td>1.0</td>\n",
       "      <td>0.0</td>\n",
       "      <td>0.0</td>\n",
       "      <td>0.0</td>\n",
       "    </tr>\n",
       "    <tr>\n",
       "      <th>1</th>\n",
       "      <td>19.75</td>\n",
       "      <td>0.014301</td>\n",
       "      <td>103.0332</td>\n",
       "      <td>1997</td>\n",
       "      <td>0.0</td>\n",
       "      <td>0.0</td>\n",
       "      <td>0.0</td>\n",
       "      <td>0.0</td>\n",
       "      <td>0.0</td>\n",
       "      <td>0.0</td>\n",
       "      <td>...</td>\n",
       "      <td>0.0</td>\n",
       "      <td>0.0</td>\n",
       "      <td>1.0</td>\n",
       "      <td>1.0</td>\n",
       "      <td>0.0</td>\n",
       "      <td>0.0</td>\n",
       "      <td>0.0</td>\n",
       "      <td>1.0</td>\n",
       "      <td>0.0</td>\n",
       "      <td>0.0</td>\n",
       "    </tr>\n",
       "    <tr>\n",
       "      <th>2</th>\n",
       "      <td>8.60</td>\n",
       "      <td>0.054221</td>\n",
       "      <td>129.1310</td>\n",
       "      <td>1985</td>\n",
       "      <td>0.0</td>\n",
       "      <td>0.0</td>\n",
       "      <td>0.0</td>\n",
       "      <td>0.0</td>\n",
       "      <td>0.0</td>\n",
       "      <td>0.0</td>\n",
       "      <td>...</td>\n",
       "      <td>0.0</td>\n",
       "      <td>1.0</td>\n",
       "      <td>0.0</td>\n",
       "      <td>0.0</td>\n",
       "      <td>0.0</td>\n",
       "      <td>1.0</td>\n",
       "      <td>0.0</td>\n",
       "      <td>0.0</td>\n",
       "      <td>0.0</td>\n",
       "      <td>1.0</td>\n",
       "    </tr>\n",
       "    <tr>\n",
       "      <th>3</th>\n",
       "      <td>19.35</td>\n",
       "      <td>0.118342</td>\n",
       "      <td>222.6088</td>\n",
       "      <td>2002</td>\n",
       "      <td>0.0</td>\n",
       "      <td>0.0</td>\n",
       "      <td>0.0</td>\n",
       "      <td>0.0</td>\n",
       "      <td>0.0</td>\n",
       "      <td>0.0</td>\n",
       "      <td>...</td>\n",
       "      <td>0.0</td>\n",
       "      <td>0.0</td>\n",
       "      <td>1.0</td>\n",
       "      <td>0.0</td>\n",
       "      <td>1.0</td>\n",
       "      <td>0.0</td>\n",
       "      <td>0.0</td>\n",
       "      <td>1.0</td>\n",
       "      <td>0.0</td>\n",
       "      <td>0.0</td>\n",
       "    </tr>\n",
       "    <tr>\n",
       "      <th>4</th>\n",
       "      <td>18.35</td>\n",
       "      <td>0.092150</td>\n",
       "      <td>184.8266</td>\n",
       "      <td>1987</td>\n",
       "      <td>0.0</td>\n",
       "      <td>0.0</td>\n",
       "      <td>0.0</td>\n",
       "      <td>0.0</td>\n",
       "      <td>0.0</td>\n",
       "      <td>0.0</td>\n",
       "      <td>...</td>\n",
       "      <td>1.0</td>\n",
       "      <td>0.0</td>\n",
       "      <td>0.0</td>\n",
       "      <td>0.0</td>\n",
       "      <td>0.0</td>\n",
       "      <td>1.0</td>\n",
       "      <td>0.0</td>\n",
       "      <td>1.0</td>\n",
       "      <td>0.0</td>\n",
       "      <td>0.0</td>\n",
       "    </tr>\n",
       "  </tbody>\n",
       "</table>\n",
       "<p>5 rows × 79 columns</p>\n",
       "</div>"
      ],
      "text/plain": [
       "   Item_Weight  Item_Visibility  Item_MRP  Outlet_Establishment_Year   H0  \\\n",
       "0         7.72         0.147904  116.6466                       1998  0.0   \n",
       "1        19.75         0.014301  103.0332                       1997  0.0   \n",
       "2         8.60         0.054221  129.1310                       1985  0.0   \n",
       "3        19.35         0.118342  222.6088                       2002  0.0   \n",
       "4        18.35         0.092150  184.8266                       1987  0.0   \n",
       "\n",
       "    H1   H2   H3   H4   H5  ...  Outlet_Size_High  Outlet_Size_Medium  \\\n",
       "0  0.0  0.0  0.0  0.0  0.0  ...               0.0                 0.0   \n",
       "1  0.0  0.0  0.0  0.0  0.0  ...               0.0                 0.0   \n",
       "2  0.0  0.0  0.0  0.0  0.0  ...               0.0                 1.0   \n",
       "3  0.0  0.0  0.0  0.0  0.0  ...               0.0                 0.0   \n",
       "4  0.0  0.0  0.0  0.0  0.0  ...               1.0                 0.0   \n",
       "\n",
       "   Outlet_Size_Small  Outlet_Location_Type_Tier 1  \\\n",
       "0                1.0                          0.0   \n",
       "1                1.0                          1.0   \n",
       "2                0.0                          0.0   \n",
       "3                1.0                          0.0   \n",
       "4                0.0                          0.0   \n",
       "\n",
       "   Outlet_Location_Type_Tier 2  Outlet_Location_Type_Tier 3  \\\n",
       "0                          0.0                          1.0   \n",
       "1                          0.0                          0.0   \n",
       "2                          0.0                          1.0   \n",
       "3                          1.0                          0.0   \n",
       "4                          0.0                          1.0   \n",
       "\n",
       "   Outlet_Type_Grocery Store  Outlet_Type_Supermarket Type1  \\\n",
       "0                        1.0                            0.0   \n",
       "1                        0.0                            1.0   \n",
       "2                        0.0                            0.0   \n",
       "3                        0.0                            1.0   \n",
       "4                        0.0                            1.0   \n",
       "\n",
       "   Outlet_Type_Supermarket Type2  Outlet_Type_Supermarket Type3  \n",
       "0                            0.0                            0.0  \n",
       "1                            0.0                            0.0  \n",
       "2                            0.0                            1.0  \n",
       "3                            0.0                            0.0  \n",
       "4                            0.0                            0.0  \n",
       "\n",
       "[5 rows x 79 columns]"
      ]
     },
     "execution_count": 147,
     "metadata": {},
     "output_type": "execute_result"
    }
   ],
   "source": [
    "num_feats_train = X_train.select_dtypes(exclude=['object']).reset_index(drop=True)\n",
    "cat_feats_train = X_train.select_dtypes(include=['object']).drop(columns=['Item_Identifier'])\n",
    "X_train_cat_ohe = pd.DataFrame(ohe.transform(cat_feats_train).toarray(), columns=ohe.get_feature_names_out(cat_feats_train.columns))\n",
    "X_train_final = pd.concat([num_feats_train, hashed_df, X_train_cat_ohe], axis=1)\n",
    "X_train_final.head()\n"
   ]
  },
  {
   "cell_type": "code",
   "execution_count": 148,
   "id": "084fe694",
   "metadata": {},
   "outputs": [
    {
     "data": {
      "text/plain": [
       "(5966, 79)"
      ]
     },
     "execution_count": 148,
     "metadata": {},
     "output_type": "execute_result"
    }
   ],
   "source": [
    "X_train_final.shape"
   ]
  },
  {
   "cell_type": "code",
   "execution_count": 150,
   "id": "7d201188",
   "metadata": {},
   "outputs": [
    {
     "name": "stdout",
     "output_type": "stream",
     "text": [
      "Model: GradientBoostingRegressor(random_state=42)\n",
      "R2 CV scores: [0.60333807 0.58697562 0.57307729 0.61825047 0.54665745]\n",
      "R2 CV scores mean/stdev: 0.585659780589121 / 0.02472208598153335\n",
      "RMSE CV scores: [1061.1539773162335, 1091.668718040682, 1140.8568202172316, 1068.308979829638, 1168.443003278293]\n",
      "RMSE CV scores mean/stdv: 1106.0862997364156 / 41.835998208432386\n"
     ]
    }
   ],
   "source": [
    "gb =  GradientBoostingRegressor(random_state=SEED)\n",
    "train_and_eval_model(model=gb, X_train=X_train_final, y_train=y_train)"
   ]
  },
  {
   "cell_type": "code",
   "execution_count": 152,
   "id": "86c8aab4",
   "metadata": {},
   "outputs": [
    {
     "name": "stdout",
     "output_type": "stream",
     "text": [
      "Model: XGBRegressor(base_score=None, booster=None, callbacks=None,\n",
      "             colsample_bylevel=None, colsample_bynode=None,\n",
      "             colsample_bytree=None, device=None, early_stopping_rounds=None,\n",
      "             enable_categorical=False, eval_metric=None, feature_types=None,\n",
      "             gamma=None, grow_policy=None, importance_type=None,\n",
      "             interaction_constraints=None, learning_rate=None, max_bin=None,\n",
      "             max_cat_threshold=None, max_cat_to_onehot=None,\n",
      "             max_delta_step=None, max_depth=None, max_leaves=None,\n",
      "             min_child_weight=None, missing=nan, monotone_constraints=None,\n",
      "             multi_strategy=None, n_estimators=None, n_jobs=None,\n",
      "             num_parallel_tree=None, random_state=42, ...)\n",
      "R2 CV scores: [0.52358272 0.49166924 0.47624143 0.5383791  0.43677068]\n",
      "R2 CV scores mean/stdev: 0.4933286352435552 / 0.035884210744003456\n",
      "RMSE CV scores: [1162.9522904226062, 1211.0894379702943, 1263.6362763048392, 1174.763259808555, 1302.3775975612373]\n",
      "RMSE CV scores mean/stdv: 1222.9637724135064 / 52.96503639567961\n"
     ]
    }
   ],
   "source": [
    "xgr = xgb.XGBRegressor(objective='reg:squarederror', random_state=SEED)\n",
    "train_and_eval_model(model=xgr, X_train=X_train_final, y_train=y_train)\n"
   ]
  },
  {
   "cell_type": "code",
   "execution_count": 155,
   "id": "1a02b7d5",
   "metadata": {},
   "outputs": [
    {
     "data": {
      "text/html": [
       "<style>#sk-container-id-2 {color: black;}#sk-container-id-2 pre{padding: 0;}#sk-container-id-2 div.sk-toggleable {background-color: white;}#sk-container-id-2 label.sk-toggleable__label {cursor: pointer;display: block;width: 100%;margin-bottom: 0;padding: 0.3em;box-sizing: border-box;text-align: center;}#sk-container-id-2 label.sk-toggleable__label-arrow:before {content: \"▸\";float: left;margin-right: 0.25em;color: #696969;}#sk-container-id-2 label.sk-toggleable__label-arrow:hover:before {color: black;}#sk-container-id-2 div.sk-estimator:hover label.sk-toggleable__label-arrow:before {color: black;}#sk-container-id-2 div.sk-toggleable__content {max-height: 0;max-width: 0;overflow: hidden;text-align: left;background-color: #f0f8ff;}#sk-container-id-2 div.sk-toggleable__content pre {margin: 0.2em;color: black;border-radius: 0.25em;background-color: #f0f8ff;}#sk-container-id-2 input.sk-toggleable__control:checked~div.sk-toggleable__content {max-height: 200px;max-width: 100%;overflow: auto;}#sk-container-id-2 input.sk-toggleable__control:checked~label.sk-toggleable__label-arrow:before {content: \"▾\";}#sk-container-id-2 div.sk-estimator input.sk-toggleable__control:checked~label.sk-toggleable__label {background-color: #d4ebff;}#sk-container-id-2 div.sk-label input.sk-toggleable__control:checked~label.sk-toggleable__label {background-color: #d4ebff;}#sk-container-id-2 input.sk-hidden--visually {border: 0;clip: rect(1px 1px 1px 1px);clip: rect(1px, 1px, 1px, 1px);height: 1px;margin: -1px;overflow: hidden;padding: 0;position: absolute;width: 1px;}#sk-container-id-2 div.sk-estimator {font-family: monospace;background-color: #f0f8ff;border: 1px dotted black;border-radius: 0.25em;box-sizing: border-box;margin-bottom: 0.5em;}#sk-container-id-2 div.sk-estimator:hover {background-color: #d4ebff;}#sk-container-id-2 div.sk-parallel-item::after {content: \"\";width: 100%;border-bottom: 1px solid gray;flex-grow: 1;}#sk-container-id-2 div.sk-label:hover label.sk-toggleable__label {background-color: #d4ebff;}#sk-container-id-2 div.sk-serial::before {content: \"\";position: absolute;border-left: 1px solid gray;box-sizing: border-box;top: 0;bottom: 0;left: 50%;z-index: 0;}#sk-container-id-2 div.sk-serial {display: flex;flex-direction: column;align-items: center;background-color: white;padding-right: 0.2em;padding-left: 0.2em;position: relative;}#sk-container-id-2 div.sk-item {position: relative;z-index: 1;}#sk-container-id-2 div.sk-parallel {display: flex;align-items: stretch;justify-content: center;background-color: white;position: relative;}#sk-container-id-2 div.sk-item::before, #sk-container-id-2 div.sk-parallel-item::before {content: \"\";position: absolute;border-left: 1px solid gray;box-sizing: border-box;top: 0;bottom: 0;left: 50%;z-index: -1;}#sk-container-id-2 div.sk-parallel-item {display: flex;flex-direction: column;z-index: 1;position: relative;background-color: white;}#sk-container-id-2 div.sk-parallel-item:first-child::after {align-self: flex-end;width: 50%;}#sk-container-id-2 div.sk-parallel-item:last-child::after {align-self: flex-start;width: 50%;}#sk-container-id-2 div.sk-parallel-item:only-child::after {width: 0;}#sk-container-id-2 div.sk-dashed-wrapped {border: 1px dashed gray;margin: 0 0.4em 0.5em 0.4em;box-sizing: border-box;padding-bottom: 0.4em;background-color: white;}#sk-container-id-2 div.sk-label label {font-family: monospace;font-weight: bold;display: inline-block;line-height: 1.2em;}#sk-container-id-2 div.sk-label-container {text-align: center;}#sk-container-id-2 div.sk-container {/* jupyter's `normalize.less` sets `[hidden] { display: none; }` but bootstrap.min.css set `[hidden] { display: none !important; }` so we also need the `!important` here to be able to override the default hidden behavior on the sphinx rendered scikit-learn.org. See: https://github.com/scikit-learn/scikit-learn/issues/21755 */display: inline-block !important;position: relative;}#sk-container-id-2 div.sk-text-repr-fallback {display: none;}</style><div id=\"sk-container-id-2\" class=\"sk-top-container\"><div class=\"sk-text-repr-fallback\"><pre>XGBRegressor(base_score=None, booster=None, callbacks=None,\n",
       "             colsample_bylevel=None, colsample_bynode=None,\n",
       "             colsample_bytree=None, device=None, early_stopping_rounds=None,\n",
       "             enable_categorical=False, eval_metric=None, feature_types=None,\n",
       "             gamma=None, grow_policy=None, importance_type=None,\n",
       "             interaction_constraints=None, learning_rate=None, max_bin=None,\n",
       "             max_cat_threshold=None, max_cat_to_onehot=None,\n",
       "             max_delta_step=None, max_depth=None, max_leaves=None,\n",
       "             min_child_weight=None, missing=nan, monotone_constraints=None,\n",
       "             multi_strategy=None, n_estimators=None, n_jobs=None,\n",
       "             num_parallel_tree=None, random_state=42, ...)</pre><b>In a Jupyter environment, please rerun this cell to show the HTML representation or trust the notebook. <br />On GitHub, the HTML representation is unable to render, please try loading this page with nbviewer.org.</b></div><div class=\"sk-container\" hidden><div class=\"sk-item\"><div class=\"sk-estimator sk-toggleable\"><input class=\"sk-toggleable__control sk-hidden--visually\" id=\"sk-estimator-id-2\" type=\"checkbox\" checked><label for=\"sk-estimator-id-2\" class=\"sk-toggleable__label sk-toggleable__label-arrow\">XGBRegressor</label><div class=\"sk-toggleable__content\"><pre>XGBRegressor(base_score=None, booster=None, callbacks=None,\n",
       "             colsample_bylevel=None, colsample_bynode=None,\n",
       "             colsample_bytree=None, device=None, early_stopping_rounds=None,\n",
       "             enable_categorical=False, eval_metric=None, feature_types=None,\n",
       "             gamma=None, grow_policy=None, importance_type=None,\n",
       "             interaction_constraints=None, learning_rate=None, max_bin=None,\n",
       "             max_cat_threshold=None, max_cat_to_onehot=None,\n",
       "             max_delta_step=None, max_depth=None, max_leaves=None,\n",
       "             min_child_weight=None, missing=nan, monotone_constraints=None,\n",
       "             multi_strategy=None, n_estimators=None, n_jobs=None,\n",
       "             num_parallel_tree=None, random_state=42, ...)</pre></div></div></div></div></div>"
      ],
      "text/plain": [
       "XGBRegressor(base_score=None, booster=None, callbacks=None,\n",
       "             colsample_bylevel=None, colsample_bynode=None,\n",
       "             colsample_bytree=None, device=None, early_stopping_rounds=None,\n",
       "             enable_categorical=False, eval_metric=None, feature_types=None,\n",
       "             gamma=None, grow_policy=None, importance_type=None,\n",
       "             interaction_constraints=None, learning_rate=None, max_bin=None,\n",
       "             max_cat_threshold=None, max_cat_to_onehot=None,\n",
       "             max_delta_step=None, max_depth=None, max_leaves=None,\n",
       "             min_child_weight=None, missing=nan, monotone_constraints=None,\n",
       "             multi_strategy=None, n_estimators=None, n_jobs=None,\n",
       "             num_parallel_tree=None, random_state=42, ...)"
      ]
     },
     "execution_count": 155,
     "metadata": {},
     "output_type": "execute_result"
    }
   ],
   "source": [
    "xgr = xgb.XGBRegressor(objective='reg:squarederror', random_state=SEED)\n",
    "xgr.fit(X_train_final, y_train)\n"
   ]
  },
  {
   "cell_type": "code",
   "execution_count": 158,
   "id": "c6209e06",
   "metadata": {},
   "outputs": [],
   "source": [
    "# Assuming X_train_final and X_test_final are DataFrames\n",
    "train_columns = X_train_final.columns\n",
    "test_columns = X_test_final.columns\n",
    "\n",
    "# Check if the columns are the same\n",
    "if not train_columns.equals(test_columns):\n",
    "    # Find the columns in train but not in test\n",
    "    missing_columns = train_columns.difference(test_columns)\n",
    "    \n",
    "    # Add the missing columns to X_test_final with zero values\n",
    "    for col in missing_columns:\n",
    "        X_test_final[col] = 0  # You may want to use a different default value\n",
    "\n",
    "    # Reorder the columns to match the order in X_train_final\n",
    "    X_test_final = X_test_final[train_columns]\n",
    "\n",
    "# Now you should be able to make predictions\n",
    "y_pred = xgr.predict(X_test_final)\n"
   ]
  },
  {
   "cell_type": "code",
   "execution_count": 159,
   "id": "506d34f4",
   "metadata": {},
   "outputs": [
    {
     "name": "stdout",
     "output_type": "stream",
     "text": [
      "hello\n"
     ]
    }
   ],
   "source": [
    "print('hello')"
   ]
  },
  {
   "cell_type": "code",
   "execution_count": 160,
   "id": "f1d0281a",
   "metadata": {},
   "outputs": [],
   "source": [
    "from sklearn.metrics import r2_score, mean_squared_error"
   ]
  },
  {
   "cell_type": "code",
   "execution_count": 161,
   "id": "884b2c3b",
   "metadata": {},
   "outputs": [
    {
     "name": "stdout",
     "output_type": "stream",
     "text": [
      "R2 Score: 0.579323378556966\n",
      "RMSE Score: 1085.5010335205648\n"
     ]
    }
   ],
   "source": [
    "print('R2 Score:', r2_score(y_test, y_pred))\n",
    "print('RMSE Score:', mean_squared_error(y_test, y_pred, squared=False))"
   ]
  },
  {
   "cell_type": "code",
   "execution_count": 162,
   "id": "e76bb430",
   "metadata": {},
   "outputs": [],
   "source": [
    "from xgboost import plot_importance "
   ]
  },
  {
   "cell_type": "code",
   "execution_count": 170,
   "id": "f4fc497c",
   "metadata": {},
   "outputs": [
    {
     "data": {
      "text/plain": [
       "<Axes: title={'center': 'Feature importance'}, xlabel='F score', ylabel='Features'>"
      ]
     },
     "execution_count": 170,
     "metadata": {},
     "output_type": "execute_result"
    },
    {
     "data": {
      "image/png": "[encoded data removed]",
      "text/plain": [
       "<Figure size 4000x2500 with 1 Axes>"
      ]
     },
     "metadata": {},
     "output_type": "display_data"
    }
   ],
   "source": [
    "fig, ax = plt.subplots(1, 1, figsize=(40,25))\n",
    "plot_importance(xgr, ax=ax)\n"
   ]
  },
  {
   "cell_type": "code",
   "execution_count": null,
   "id": "92efe543",
   "metadata": {},
   "outputs": [],
   "source": [
    "\n",
    "\n",
    "\n",
    "\n",
    "\n",
    "\n",
    "\n",
    "\n",
    "\n",
    "\n",
    "\n",
    "\n",
    "\n",
    "\n",
    "\n",
    "\n",
    "\n",
    "\n"
   ]
  }
 ],
 "metadata": {
  "kernelspec": {
   "display_name": "Python 3 (ipykernel)",
   "language": "python",
   "name": "python3"
  },
  "language_info": {
   "codemirror_mode": {
    "name": "ipython",
    "version": 3
   },
   "file_extension": ".py",
   "mimetype": "text/x-python",
   "name": "python",
   "nbconvert_exporter": "python",
   "pygments_lexer": "ipython3",
   "version": "3.11.4"
  }
 },
 "nbformat": 4,
 "nbformat_minor": 5
}
